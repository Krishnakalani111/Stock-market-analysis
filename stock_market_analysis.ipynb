{
  "nbformat": 4,
  "nbformat_minor": 0,
  "metadata": {
    "colab": {
      "provenance": [],
      "toc_visible": true,
      "authorship_tag": "ABX9TyOkhqKxgbQikAUqdGXkGu3X",
      "include_colab_link": true
    },
    "kernelspec": {
      "name": "python3",
      "display_name": "Python 3"
    },
    "language_info": {
      "name": "python"
    }
  },
  "cells": [
    {
      "cell_type": "markdown",
      "metadata": {
        "id": "view-in-github",
        "colab_type": "text"
      },
      "source": [
        "<a href=\"https://colab.research.google.com/github/Krishnakalani111/Stock-market-analysis/blob/main/stock_market_analysis.ipynb\" target=\"_parent\"><img src=\"https://colab.research.google.com/assets/colab-badge.svg\" alt=\"Open In Colab\"/></a>"
      ]
    },
    {
      "cell_type": "markdown",
      "source": [
        "## STATEMENTS  : ⚡Does long term investing in high cap stock profitable?\n",
        "##              ⚡Are every TATA company stock profitable for the long\n",
        "##                run?\n",
        "##              ⚡ Does diversifying your portfolio helps?\n"
      ],
      "metadata": {
        "id": "j7_SQOYj8ZBR"
      }
    },
    {
      "cell_type": "markdown",
      "source": [
        "# IMPORTING LIBRARIES"
      ],
      "metadata": {
        "id": "BGz_URN2881c"
      }
    },
    {
      "cell_type": "code",
      "execution_count": 1,
      "metadata": {
        "id": "2XEpiFSb5VZH"
      },
      "outputs": [],
      "source": [
        "import pandas as pd\n",
        "\n",
        "import matplotlib.pyplot as plt"
      ]
    },
    {
      "cell_type": "markdown",
      "source": [
        "# Importing Dataset"
      ],
      "metadata": {
        "id": "tBDu_jE09PbX"
      }
    },
    {
      "cell_type": "code",
      "source": [
        "TataMotors = pd.read_csv(\"TATAMOTORS.csv\")\n",
        "TataSteel  = pd.read_csv(\"TATASTEEL.csv\")\n",
        "Titan = pd.read_csv(\"TITAN.csv\") "
      ],
      "metadata": {
        "id": "Yj_pjnTE87Bn"
      },
      "execution_count": 2,
      "outputs": []
    },
    {
      "cell_type": "markdown",
      "source": [
        "# viewing the data"
      ],
      "metadata": {
        "id": "x4EJvwcd97yL"
      }
    },
    {
      "cell_type": "code",
      "source": [
        "TataMotors.head()\n",
        "\n"
      ],
      "metadata": {
        "colab": {
          "base_uri": "https://localhost:8080/",
          "height": 354
        },
        "id": "7tMiWK989_Ei",
        "outputId": "7ee11d04-3ea6-4f52-be1f-6eb8d5269ec2"
      },
      "execution_count": null,
      "outputs": [
        {
          "output_type": "execute_result",
          "data": {
            "text/plain": [
              "         Date Symbol Series  Prev Close   Open    High    Low   Last   Close  \\\n",
              "0  2000-01-03  TELCO     EQ      201.60  207.4  217.25  207.4  217.0  216.75   \n",
              "1  2000-01-04  TELCO     EQ      216.75  217.0  219.00  206.0  211.9  208.20   \n",
              "2  2000-01-05  TELCO     EQ      208.20  194.0  217.80  194.0  213.1  213.25   \n",
              "3  2000-01-06  TELCO     EQ      213.25  215.0  229.90  215.0  222.0  222.10   \n",
              "4  2000-01-07  TELCO     EQ      222.10  224.0  239.90  223.1  239.9  239.90   \n",
              "\n",
              "     VWAP   Volume      Turnover  Trades  Deliverable Volume  %Deliverble  \n",
              "0  214.28   676126  1.448775e+13     NaN                 NaN          NaN  \n",
              "1  209.50   679215  1.422962e+13     NaN                 NaN          NaN  \n",
              "2  210.33  1120951  2.357684e+13     NaN                 NaN          NaN  \n",
              "3  225.29  1968998  4.435932e+13     NaN                 NaN          NaN  \n",
              "4  236.32  2199431  5.197636e+13     NaN                 NaN          NaN  "
            ],
            "text/html": [
              "\n",
              "  <div id=\"df-84971fd2-faf4-4ea8-8e60-c97891d6932c\">\n",
              "    <div class=\"colab-df-container\">\n",
              "      <div>\n",
              "<style scoped>\n",
              "    .dataframe tbody tr th:only-of-type {\n",
              "        vertical-align: middle;\n",
              "    }\n",
              "\n",
              "    .dataframe tbody tr th {\n",
              "        vertical-align: top;\n",
              "    }\n",
              "\n",
              "    .dataframe thead th {\n",
              "        text-align: right;\n",
              "    }\n",
              "</style>\n",
              "<table border=\"1\" class=\"dataframe\">\n",
              "  <thead>\n",
              "    <tr style=\"text-align: right;\">\n",
              "      <th></th>\n",
              "      <th>Date</th>\n",
              "      <th>Symbol</th>\n",
              "      <th>Series</th>\n",
              "      <th>Prev Close</th>\n",
              "      <th>Open</th>\n",
              "      <th>High</th>\n",
              "      <th>Low</th>\n",
              "      <th>Last</th>\n",
              "      <th>Close</th>\n",
              "      <th>VWAP</th>\n",
              "      <th>Volume</th>\n",
              "      <th>Turnover</th>\n",
              "      <th>Trades</th>\n",
              "      <th>Deliverable Volume</th>\n",
              "      <th>%Deliverble</th>\n",
              "    </tr>\n",
              "  </thead>\n",
              "  <tbody>\n",
              "    <tr>\n",
              "      <th>0</th>\n",
              "      <td>2000-01-03</td>\n",
              "      <td>TELCO</td>\n",
              "      <td>EQ</td>\n",
              "      <td>201.60</td>\n",
              "      <td>207.4</td>\n",
              "      <td>217.25</td>\n",
              "      <td>207.4</td>\n",
              "      <td>217.0</td>\n",
              "      <td>216.75</td>\n",
              "      <td>214.28</td>\n",
              "      <td>676126</td>\n",
              "      <td>1.448775e+13</td>\n",
              "      <td>NaN</td>\n",
              "      <td>NaN</td>\n",
              "      <td>NaN</td>\n",
              "    </tr>\n",
              "    <tr>\n",
              "      <th>1</th>\n",
              "      <td>2000-01-04</td>\n",
              "      <td>TELCO</td>\n",
              "      <td>EQ</td>\n",
              "      <td>216.75</td>\n",
              "      <td>217.0</td>\n",
              "      <td>219.00</td>\n",
              "      <td>206.0</td>\n",
              "      <td>211.9</td>\n",
              "      <td>208.20</td>\n",
              "      <td>209.50</td>\n",
              "      <td>679215</td>\n",
              "      <td>1.422962e+13</td>\n",
              "      <td>NaN</td>\n",
              "      <td>NaN</td>\n",
              "      <td>NaN</td>\n",
              "    </tr>\n",
              "    <tr>\n",
              "      <th>2</th>\n",
              "      <td>2000-01-05</td>\n",
              "      <td>TELCO</td>\n",
              "      <td>EQ</td>\n",
              "      <td>208.20</td>\n",
              "      <td>194.0</td>\n",
              "      <td>217.80</td>\n",
              "      <td>194.0</td>\n",
              "      <td>213.1</td>\n",
              "      <td>213.25</td>\n",
              "      <td>210.33</td>\n",
              "      <td>1120951</td>\n",
              "      <td>2.357684e+13</td>\n",
              "      <td>NaN</td>\n",
              "      <td>NaN</td>\n",
              "      <td>NaN</td>\n",
              "    </tr>\n",
              "    <tr>\n",
              "      <th>3</th>\n",
              "      <td>2000-01-06</td>\n",
              "      <td>TELCO</td>\n",
              "      <td>EQ</td>\n",
              "      <td>213.25</td>\n",
              "      <td>215.0</td>\n",
              "      <td>229.90</td>\n",
              "      <td>215.0</td>\n",
              "      <td>222.0</td>\n",
              "      <td>222.10</td>\n",
              "      <td>225.29</td>\n",
              "      <td>1968998</td>\n",
              "      <td>4.435932e+13</td>\n",
              "      <td>NaN</td>\n",
              "      <td>NaN</td>\n",
              "      <td>NaN</td>\n",
              "    </tr>\n",
              "    <tr>\n",
              "      <th>4</th>\n",
              "      <td>2000-01-07</td>\n",
              "      <td>TELCO</td>\n",
              "      <td>EQ</td>\n",
              "      <td>222.10</td>\n",
              "      <td>224.0</td>\n",
              "      <td>239.90</td>\n",
              "      <td>223.1</td>\n",
              "      <td>239.9</td>\n",
              "      <td>239.90</td>\n",
              "      <td>236.32</td>\n",
              "      <td>2199431</td>\n",
              "      <td>5.197636e+13</td>\n",
              "      <td>NaN</td>\n",
              "      <td>NaN</td>\n",
              "      <td>NaN</td>\n",
              "    </tr>\n",
              "  </tbody>\n",
              "</table>\n",
              "</div>\n",
              "      <button class=\"colab-df-convert\" onclick=\"convertToInteractive('df-84971fd2-faf4-4ea8-8e60-c97891d6932c')\"\n",
              "              title=\"Convert this dataframe to an interactive table.\"\n",
              "              style=\"display:none;\">\n",
              "        \n",
              "  <svg xmlns=\"http://www.w3.org/2000/svg\" height=\"24px\"viewBox=\"0 0 24 24\"\n",
              "       width=\"24px\">\n",
              "    <path d=\"M0 0h24v24H0V0z\" fill=\"none\"/>\n",
              "    <path d=\"M18.56 5.44l.94 2.06.94-2.06 2.06-.94-2.06-.94-.94-2.06-.94 2.06-2.06.94zm-11 1L8.5 8.5l.94-2.06 2.06-.94-2.06-.94L8.5 2.5l-.94 2.06-2.06.94zm10 10l.94 2.06.94-2.06 2.06-.94-2.06-.94-.94-2.06-.94 2.06-2.06.94z\"/><path d=\"M17.41 7.96l-1.37-1.37c-.4-.4-.92-.59-1.43-.59-.52 0-1.04.2-1.43.59L10.3 9.45l-7.72 7.72c-.78.78-.78 2.05 0 2.83L4 21.41c.39.39.9.59 1.41.59.51 0 1.02-.2 1.41-.59l7.78-7.78 2.81-2.81c.8-.78.8-2.07 0-2.86zM5.41 20L4 18.59l7.72-7.72 1.47 1.35L5.41 20z\"/>\n",
              "  </svg>\n",
              "      </button>\n",
              "      \n",
              "  <style>\n",
              "    .colab-df-container {\n",
              "      display:flex;\n",
              "      flex-wrap:wrap;\n",
              "      gap: 12px;\n",
              "    }\n",
              "\n",
              "    .colab-df-convert {\n",
              "      background-color: #E8F0FE;\n",
              "      border: none;\n",
              "      border-radius: 50%;\n",
              "      cursor: pointer;\n",
              "      display: none;\n",
              "      fill: #1967D2;\n",
              "      height: 32px;\n",
              "      padding: 0 0 0 0;\n",
              "      width: 32px;\n",
              "    }\n",
              "\n",
              "    .colab-df-convert:hover {\n",
              "      background-color: #E2EBFA;\n",
              "      box-shadow: 0px 1px 2px rgba(60, 64, 67, 0.3), 0px 1px 3px 1px rgba(60, 64, 67, 0.15);\n",
              "      fill: #174EA6;\n",
              "    }\n",
              "\n",
              "    [theme=dark] .colab-df-convert {\n",
              "      background-color: #3B4455;\n",
              "      fill: #D2E3FC;\n",
              "    }\n",
              "\n",
              "    [theme=dark] .colab-df-convert:hover {\n",
              "      background-color: #434B5C;\n",
              "      box-shadow: 0px 1px 3px 1px rgba(0, 0, 0, 0.15);\n",
              "      filter: drop-shadow(0px 1px 2px rgba(0, 0, 0, 0.3));\n",
              "      fill: #FFFFFF;\n",
              "    }\n",
              "  </style>\n",
              "\n",
              "      <script>\n",
              "        const buttonEl =\n",
              "          document.querySelector('#df-84971fd2-faf4-4ea8-8e60-c97891d6932c button.colab-df-convert');\n",
              "        buttonEl.style.display =\n",
              "          google.colab.kernel.accessAllowed ? 'block' : 'none';\n",
              "\n",
              "        async function convertToInteractive(key) {\n",
              "          const element = document.querySelector('#df-84971fd2-faf4-4ea8-8e60-c97891d6932c');\n",
              "          const dataTable =\n",
              "            await google.colab.kernel.invokeFunction('convertToInteractive',\n",
              "                                                     [key], {});\n",
              "          if (!dataTable) return;\n",
              "\n",
              "          const docLinkHtml = 'Like what you see? Visit the ' +\n",
              "            '<a target=\"_blank\" href=https://colab.research.google.com/notebooks/data_table.ipynb>data table notebook</a>'\n",
              "            + ' to learn more about interactive tables.';\n",
              "          element.innerHTML = '';\n",
              "          dataTable['output_type'] = 'display_data';\n",
              "          await google.colab.output.renderOutput(dataTable, element);\n",
              "          const docLink = document.createElement('div');\n",
              "          docLink.innerHTML = docLinkHtml;\n",
              "          element.appendChild(docLink);\n",
              "        }\n",
              "      </script>\n",
              "    </div>\n",
              "  </div>\n",
              "  "
            ]
          },
          "metadata": {},
          "execution_count": 30
        }
      ]
    },
    {
      "cell_type": "code",
      "source": [
        "Titan.head()"
      ],
      "metadata": {
        "colab": {
          "base_uri": "https://localhost:8080/",
          "height": 354
        },
        "id": "5OWTgd_r-J5B",
        "outputId": "1afbd27e-ac90-4c3a-eaf8-eac684f7dae4"
      },
      "execution_count": null,
      "outputs": [
        {
          "output_type": "execute_result",
          "data": {
            "text/plain": [
              "         Date Symbol Series  Prev Close   Open    High    Low    Last   Close  \\\n",
              "0  2000-01-03  TITAN     EQ      144.95  146.0  156.45  146.0  155.00  155.70   \n",
              "1  2000-01-04  TITAN     EQ      155.70  152.0  152.00  144.0  148.05  147.40   \n",
              "2  2000-01-05  TITAN     EQ      147.40  144.0  148.80  136.0  139.95  138.40   \n",
              "3  2000-01-06  TITAN     EQ      138.40  142.0  149.50  141.0  149.50  149.50   \n",
              "4  2000-01-07  TITAN     EQ      149.50  149.5  153.00  145.0  147.75  146.35   \n",
              "\n",
              "     VWAP  Volume      Turnover  Trades  Deliverable Volume  %Deliverble  \n",
              "0  154.36   23000  3.550370e+11     NaN                 NaN          NaN  \n",
              "1  146.72   26300  3.858700e+11     NaN                 NaN          NaN  \n",
              "2  142.95   20600  2.944850e+11     NaN                 NaN          NaN  \n",
              "3  147.87   31600  4.672750e+11     NaN                 NaN          NaN  \n",
              "4  148.63   36600  5.439965e+11     NaN                 NaN          NaN  "
            ],
            "text/html": [
              "\n",
              "  <div id=\"df-d779d298-6601-4052-8f2d-d26346e760fe\">\n",
              "    <div class=\"colab-df-container\">\n",
              "      <div>\n",
              "<style scoped>\n",
              "    .dataframe tbody tr th:only-of-type {\n",
              "        vertical-align: middle;\n",
              "    }\n",
              "\n",
              "    .dataframe tbody tr th {\n",
              "        vertical-align: top;\n",
              "    }\n",
              "\n",
              "    .dataframe thead th {\n",
              "        text-align: right;\n",
              "    }\n",
              "</style>\n",
              "<table border=\"1\" class=\"dataframe\">\n",
              "  <thead>\n",
              "    <tr style=\"text-align: right;\">\n",
              "      <th></th>\n",
              "      <th>Date</th>\n",
              "      <th>Symbol</th>\n",
              "      <th>Series</th>\n",
              "      <th>Prev Close</th>\n",
              "      <th>Open</th>\n",
              "      <th>High</th>\n",
              "      <th>Low</th>\n",
              "      <th>Last</th>\n",
              "      <th>Close</th>\n",
              "      <th>VWAP</th>\n",
              "      <th>Volume</th>\n",
              "      <th>Turnover</th>\n",
              "      <th>Trades</th>\n",
              "      <th>Deliverable Volume</th>\n",
              "      <th>%Deliverble</th>\n",
              "    </tr>\n",
              "  </thead>\n",
              "  <tbody>\n",
              "    <tr>\n",
              "      <th>0</th>\n",
              "      <td>2000-01-03</td>\n",
              "      <td>TITAN</td>\n",
              "      <td>EQ</td>\n",
              "      <td>144.95</td>\n",
              "      <td>146.0</td>\n",
              "      <td>156.45</td>\n",
              "      <td>146.0</td>\n",
              "      <td>155.00</td>\n",
              "      <td>155.70</td>\n",
              "      <td>154.36</td>\n",
              "      <td>23000</td>\n",
              "      <td>3.550370e+11</td>\n",
              "      <td>NaN</td>\n",
              "      <td>NaN</td>\n",
              "      <td>NaN</td>\n",
              "    </tr>\n",
              "    <tr>\n",
              "      <th>1</th>\n",
              "      <td>2000-01-04</td>\n",
              "      <td>TITAN</td>\n",
              "      <td>EQ</td>\n",
              "      <td>155.70</td>\n",
              "      <td>152.0</td>\n",
              "      <td>152.00</td>\n",
              "      <td>144.0</td>\n",
              "      <td>148.05</td>\n",
              "      <td>147.40</td>\n",
              "      <td>146.72</td>\n",
              "      <td>26300</td>\n",
              "      <td>3.858700e+11</td>\n",
              "      <td>NaN</td>\n",
              "      <td>NaN</td>\n",
              "      <td>NaN</td>\n",
              "    </tr>\n",
              "    <tr>\n",
              "      <th>2</th>\n",
              "      <td>2000-01-05</td>\n",
              "      <td>TITAN</td>\n",
              "      <td>EQ</td>\n",
              "      <td>147.40</td>\n",
              "      <td>144.0</td>\n",
              "      <td>148.80</td>\n",
              "      <td>136.0</td>\n",
              "      <td>139.95</td>\n",
              "      <td>138.40</td>\n",
              "      <td>142.95</td>\n",
              "      <td>20600</td>\n",
              "      <td>2.944850e+11</td>\n",
              "      <td>NaN</td>\n",
              "      <td>NaN</td>\n",
              "      <td>NaN</td>\n",
              "    </tr>\n",
              "    <tr>\n",
              "      <th>3</th>\n",
              "      <td>2000-01-06</td>\n",
              "      <td>TITAN</td>\n",
              "      <td>EQ</td>\n",
              "      <td>138.40</td>\n",
              "      <td>142.0</td>\n",
              "      <td>149.50</td>\n",
              "      <td>141.0</td>\n",
              "      <td>149.50</td>\n",
              "      <td>149.50</td>\n",
              "      <td>147.87</td>\n",
              "      <td>31600</td>\n",
              "      <td>4.672750e+11</td>\n",
              "      <td>NaN</td>\n",
              "      <td>NaN</td>\n",
              "      <td>NaN</td>\n",
              "    </tr>\n",
              "    <tr>\n",
              "      <th>4</th>\n",
              "      <td>2000-01-07</td>\n",
              "      <td>TITAN</td>\n",
              "      <td>EQ</td>\n",
              "      <td>149.50</td>\n",
              "      <td>149.5</td>\n",
              "      <td>153.00</td>\n",
              "      <td>145.0</td>\n",
              "      <td>147.75</td>\n",
              "      <td>146.35</td>\n",
              "      <td>148.63</td>\n",
              "      <td>36600</td>\n",
              "      <td>5.439965e+11</td>\n",
              "      <td>NaN</td>\n",
              "      <td>NaN</td>\n",
              "      <td>NaN</td>\n",
              "    </tr>\n",
              "  </tbody>\n",
              "</table>\n",
              "</div>\n",
              "      <button class=\"colab-df-convert\" onclick=\"convertToInteractive('df-d779d298-6601-4052-8f2d-d26346e760fe')\"\n",
              "              title=\"Convert this dataframe to an interactive table.\"\n",
              "              style=\"display:none;\">\n",
              "        \n",
              "  <svg xmlns=\"http://www.w3.org/2000/svg\" height=\"24px\"viewBox=\"0 0 24 24\"\n",
              "       width=\"24px\">\n",
              "    <path d=\"M0 0h24v24H0V0z\" fill=\"none\"/>\n",
              "    <path d=\"M18.56 5.44l.94 2.06.94-2.06 2.06-.94-2.06-.94-.94-2.06-.94 2.06-2.06.94zm-11 1L8.5 8.5l.94-2.06 2.06-.94-2.06-.94L8.5 2.5l-.94 2.06-2.06.94zm10 10l.94 2.06.94-2.06 2.06-.94-2.06-.94-.94-2.06-.94 2.06-2.06.94z\"/><path d=\"M17.41 7.96l-1.37-1.37c-.4-.4-.92-.59-1.43-.59-.52 0-1.04.2-1.43.59L10.3 9.45l-7.72 7.72c-.78.78-.78 2.05 0 2.83L4 21.41c.39.39.9.59 1.41.59.51 0 1.02-.2 1.41-.59l7.78-7.78 2.81-2.81c.8-.78.8-2.07 0-2.86zM5.41 20L4 18.59l7.72-7.72 1.47 1.35L5.41 20z\"/>\n",
              "  </svg>\n",
              "      </button>\n",
              "      \n",
              "  <style>\n",
              "    .colab-df-container {\n",
              "      display:flex;\n",
              "      flex-wrap:wrap;\n",
              "      gap: 12px;\n",
              "    }\n",
              "\n",
              "    .colab-df-convert {\n",
              "      background-color: #E8F0FE;\n",
              "      border: none;\n",
              "      border-radius: 50%;\n",
              "      cursor: pointer;\n",
              "      display: none;\n",
              "      fill: #1967D2;\n",
              "      height: 32px;\n",
              "      padding: 0 0 0 0;\n",
              "      width: 32px;\n",
              "    }\n",
              "\n",
              "    .colab-df-convert:hover {\n",
              "      background-color: #E2EBFA;\n",
              "      box-shadow: 0px 1px 2px rgba(60, 64, 67, 0.3), 0px 1px 3px 1px rgba(60, 64, 67, 0.15);\n",
              "      fill: #174EA6;\n",
              "    }\n",
              "\n",
              "    [theme=dark] .colab-df-convert {\n",
              "      background-color: #3B4455;\n",
              "      fill: #D2E3FC;\n",
              "    }\n",
              "\n",
              "    [theme=dark] .colab-df-convert:hover {\n",
              "      background-color: #434B5C;\n",
              "      box-shadow: 0px 1px 3px 1px rgba(0, 0, 0, 0.15);\n",
              "      filter: drop-shadow(0px 1px 2px rgba(0, 0, 0, 0.3));\n",
              "      fill: #FFFFFF;\n",
              "    }\n",
              "  </style>\n",
              "\n",
              "      <script>\n",
              "        const buttonEl =\n",
              "          document.querySelector('#df-d779d298-6601-4052-8f2d-d26346e760fe button.colab-df-convert');\n",
              "        buttonEl.style.display =\n",
              "          google.colab.kernel.accessAllowed ? 'block' : 'none';\n",
              "\n",
              "        async function convertToInteractive(key) {\n",
              "          const element = document.querySelector('#df-d779d298-6601-4052-8f2d-d26346e760fe');\n",
              "          const dataTable =\n",
              "            await google.colab.kernel.invokeFunction('convertToInteractive',\n",
              "                                                     [key], {});\n",
              "          if (!dataTable) return;\n",
              "\n",
              "          const docLinkHtml = 'Like what you see? Visit the ' +\n",
              "            '<a target=\"_blank\" href=https://colab.research.google.com/notebooks/data_table.ipynb>data table notebook</a>'\n",
              "            + ' to learn more about interactive tables.';\n",
              "          element.innerHTML = '';\n",
              "          dataTable['output_type'] = 'display_data';\n",
              "          await google.colab.output.renderOutput(dataTable, element);\n",
              "          const docLink = document.createElement('div');\n",
              "          docLink.innerHTML = docLinkHtml;\n",
              "          element.appendChild(docLink);\n",
              "        }\n",
              "      </script>\n",
              "    </div>\n",
              "  </div>\n",
              "  "
            ]
          },
          "metadata": {},
          "execution_count": 31
        }
      ]
    },
    {
      "cell_type": "code",
      "source": [
        "TataSteel.head()"
      ],
      "metadata": {
        "colab": {
          "base_uri": "https://localhost:8080/",
          "height": 354
        },
        "id": "dvzpuRHx-XJp",
        "outputId": "7d5329b9-0834-4034-fe67-c7de52ac59fa"
      },
      "execution_count": null,
      "outputs": [
        {
          "output_type": "execute_result",
          "data": {
            "text/plain": [
              "         Date Symbol Series  Prev Close    Open   High     Low    Last  \\\n",
              "0  2000-01-03  TISCO     EQ      142.35  148.00  153.2  146.10  152.50   \n",
              "1  2000-01-04  TISCO     EQ      152.45  150.10  153.0  143.05  151.95   \n",
              "2  2000-01-05  TISCO     EQ      150.80  144.60  162.9  144.60  158.00   \n",
              "3  2000-01-06  TISCO     EQ      156.55  158.95  169.1  158.95  169.00   \n",
              "4  2000-01-07  TISCO     EQ      168.25  173.40  179.0  166.30  170.55   \n",
              "\n",
              "    Close    VWAP   Volume      Turnover  Trades  Deliverable Volume  \\\n",
              "0  152.45  150.92  2003185  3.023164e+13     NaN                 NaN   \n",
              "1  150.80  151.03  1555136  2.348785e+13     NaN                 NaN   \n",
              "2  156.55  156.85  3840284  6.023364e+13     NaN                 NaN   \n",
              "3  168.25  167.61  2560449  4.291530e+13     NaN                 NaN   \n",
              "4  171.95  173.89  3641691  6.332459e+13     NaN                 NaN   \n",
              "\n",
              "   %Deliverble  \n",
              "0          NaN  \n",
              "1          NaN  \n",
              "2          NaN  \n",
              "3          NaN  \n",
              "4          NaN  "
            ],
            "text/html": [
              "\n",
              "  <div id=\"df-123bf4d7-f01c-407d-b414-a48ab59811f2\">\n",
              "    <div class=\"colab-df-container\">\n",
              "      <div>\n",
              "<style scoped>\n",
              "    .dataframe tbody tr th:only-of-type {\n",
              "        vertical-align: middle;\n",
              "    }\n",
              "\n",
              "    .dataframe tbody tr th {\n",
              "        vertical-align: top;\n",
              "    }\n",
              "\n",
              "    .dataframe thead th {\n",
              "        text-align: right;\n",
              "    }\n",
              "</style>\n",
              "<table border=\"1\" class=\"dataframe\">\n",
              "  <thead>\n",
              "    <tr style=\"text-align: right;\">\n",
              "      <th></th>\n",
              "      <th>Date</th>\n",
              "      <th>Symbol</th>\n",
              "      <th>Series</th>\n",
              "      <th>Prev Close</th>\n",
              "      <th>Open</th>\n",
              "      <th>High</th>\n",
              "      <th>Low</th>\n",
              "      <th>Last</th>\n",
              "      <th>Close</th>\n",
              "      <th>VWAP</th>\n",
              "      <th>Volume</th>\n",
              "      <th>Turnover</th>\n",
              "      <th>Trades</th>\n",
              "      <th>Deliverable Volume</th>\n",
              "      <th>%Deliverble</th>\n",
              "    </tr>\n",
              "  </thead>\n",
              "  <tbody>\n",
              "    <tr>\n",
              "      <th>0</th>\n",
              "      <td>2000-01-03</td>\n",
              "      <td>TISCO</td>\n",
              "      <td>EQ</td>\n",
              "      <td>142.35</td>\n",
              "      <td>148.00</td>\n",
              "      <td>153.2</td>\n",
              "      <td>146.10</td>\n",
              "      <td>152.50</td>\n",
              "      <td>152.45</td>\n",
              "      <td>150.92</td>\n",
              "      <td>2003185</td>\n",
              "      <td>3.023164e+13</td>\n",
              "      <td>NaN</td>\n",
              "      <td>NaN</td>\n",
              "      <td>NaN</td>\n",
              "    </tr>\n",
              "    <tr>\n",
              "      <th>1</th>\n",
              "      <td>2000-01-04</td>\n",
              "      <td>TISCO</td>\n",
              "      <td>EQ</td>\n",
              "      <td>152.45</td>\n",
              "      <td>150.10</td>\n",
              "      <td>153.0</td>\n",
              "      <td>143.05</td>\n",
              "      <td>151.95</td>\n",
              "      <td>150.80</td>\n",
              "      <td>151.03</td>\n",
              "      <td>1555136</td>\n",
              "      <td>2.348785e+13</td>\n",
              "      <td>NaN</td>\n",
              "      <td>NaN</td>\n",
              "      <td>NaN</td>\n",
              "    </tr>\n",
              "    <tr>\n",
              "      <th>2</th>\n",
              "      <td>2000-01-05</td>\n",
              "      <td>TISCO</td>\n",
              "      <td>EQ</td>\n",
              "      <td>150.80</td>\n",
              "      <td>144.60</td>\n",
              "      <td>162.9</td>\n",
              "      <td>144.60</td>\n",
              "      <td>158.00</td>\n",
              "      <td>156.55</td>\n",
              "      <td>156.85</td>\n",
              "      <td>3840284</td>\n",
              "      <td>6.023364e+13</td>\n",
              "      <td>NaN</td>\n",
              "      <td>NaN</td>\n",
              "      <td>NaN</td>\n",
              "    </tr>\n",
              "    <tr>\n",
              "      <th>3</th>\n",
              "      <td>2000-01-06</td>\n",
              "      <td>TISCO</td>\n",
              "      <td>EQ</td>\n",
              "      <td>156.55</td>\n",
              "      <td>158.95</td>\n",
              "      <td>169.1</td>\n",
              "      <td>158.95</td>\n",
              "      <td>169.00</td>\n",
              "      <td>168.25</td>\n",
              "      <td>167.61</td>\n",
              "      <td>2560449</td>\n",
              "      <td>4.291530e+13</td>\n",
              "      <td>NaN</td>\n",
              "      <td>NaN</td>\n",
              "      <td>NaN</td>\n",
              "    </tr>\n",
              "    <tr>\n",
              "      <th>4</th>\n",
              "      <td>2000-01-07</td>\n",
              "      <td>TISCO</td>\n",
              "      <td>EQ</td>\n",
              "      <td>168.25</td>\n",
              "      <td>173.40</td>\n",
              "      <td>179.0</td>\n",
              "      <td>166.30</td>\n",
              "      <td>170.55</td>\n",
              "      <td>171.95</td>\n",
              "      <td>173.89</td>\n",
              "      <td>3641691</td>\n",
              "      <td>6.332459e+13</td>\n",
              "      <td>NaN</td>\n",
              "      <td>NaN</td>\n",
              "      <td>NaN</td>\n",
              "    </tr>\n",
              "  </tbody>\n",
              "</table>\n",
              "</div>\n",
              "      <button class=\"colab-df-convert\" onclick=\"convertToInteractive('df-123bf4d7-f01c-407d-b414-a48ab59811f2')\"\n",
              "              title=\"Convert this dataframe to an interactive table.\"\n",
              "              style=\"display:none;\">\n",
              "        \n",
              "  <svg xmlns=\"http://www.w3.org/2000/svg\" height=\"24px\"viewBox=\"0 0 24 24\"\n",
              "       width=\"24px\">\n",
              "    <path d=\"M0 0h24v24H0V0z\" fill=\"none\"/>\n",
              "    <path d=\"M18.56 5.44l.94 2.06.94-2.06 2.06-.94-2.06-.94-.94-2.06-.94 2.06-2.06.94zm-11 1L8.5 8.5l.94-2.06 2.06-.94-2.06-.94L8.5 2.5l-.94 2.06-2.06.94zm10 10l.94 2.06.94-2.06 2.06-.94-2.06-.94-.94-2.06-.94 2.06-2.06.94z\"/><path d=\"M17.41 7.96l-1.37-1.37c-.4-.4-.92-.59-1.43-.59-.52 0-1.04.2-1.43.59L10.3 9.45l-7.72 7.72c-.78.78-.78 2.05 0 2.83L4 21.41c.39.39.9.59 1.41.59.51 0 1.02-.2 1.41-.59l7.78-7.78 2.81-2.81c.8-.78.8-2.07 0-2.86zM5.41 20L4 18.59l7.72-7.72 1.47 1.35L5.41 20z\"/>\n",
              "  </svg>\n",
              "      </button>\n",
              "      \n",
              "  <style>\n",
              "    .colab-df-container {\n",
              "      display:flex;\n",
              "      flex-wrap:wrap;\n",
              "      gap: 12px;\n",
              "    }\n",
              "\n",
              "    .colab-df-convert {\n",
              "      background-color: #E8F0FE;\n",
              "      border: none;\n",
              "      border-radius: 50%;\n",
              "      cursor: pointer;\n",
              "      display: none;\n",
              "      fill: #1967D2;\n",
              "      height: 32px;\n",
              "      padding: 0 0 0 0;\n",
              "      width: 32px;\n",
              "    }\n",
              "\n",
              "    .colab-df-convert:hover {\n",
              "      background-color: #E2EBFA;\n",
              "      box-shadow: 0px 1px 2px rgba(60, 64, 67, 0.3), 0px 1px 3px 1px rgba(60, 64, 67, 0.15);\n",
              "      fill: #174EA6;\n",
              "    }\n",
              "\n",
              "    [theme=dark] .colab-df-convert {\n",
              "      background-color: #3B4455;\n",
              "      fill: #D2E3FC;\n",
              "    }\n",
              "\n",
              "    [theme=dark] .colab-df-convert:hover {\n",
              "      background-color: #434B5C;\n",
              "      box-shadow: 0px 1px 3px 1px rgba(0, 0, 0, 0.15);\n",
              "      filter: drop-shadow(0px 1px 2px rgba(0, 0, 0, 0.3));\n",
              "      fill: #FFFFFF;\n",
              "    }\n",
              "  </style>\n",
              "\n",
              "      <script>\n",
              "        const buttonEl =\n",
              "          document.querySelector('#df-123bf4d7-f01c-407d-b414-a48ab59811f2 button.colab-df-convert');\n",
              "        buttonEl.style.display =\n",
              "          google.colab.kernel.accessAllowed ? 'block' : 'none';\n",
              "\n",
              "        async function convertToInteractive(key) {\n",
              "          const element = document.querySelector('#df-123bf4d7-f01c-407d-b414-a48ab59811f2');\n",
              "          const dataTable =\n",
              "            await google.colab.kernel.invokeFunction('convertToInteractive',\n",
              "                                                     [key], {});\n",
              "          if (!dataTable) return;\n",
              "\n",
              "          const docLinkHtml = 'Like what you see? Visit the ' +\n",
              "            '<a target=\"_blank\" href=https://colab.research.google.com/notebooks/data_table.ipynb>data table notebook</a>'\n",
              "            + ' to learn more about interactive tables.';\n",
              "          element.innerHTML = '';\n",
              "          dataTable['output_type'] = 'display_data';\n",
              "          await google.colab.output.renderOutput(dataTable, element);\n",
              "          const docLink = document.createElement('div');\n",
              "          docLink.innerHTML = docLinkHtml;\n",
              "          element.appendChild(docLink);\n",
              "        }\n",
              "      </script>\n",
              "    </div>\n",
              "  </div>\n",
              "  "
            ]
          },
          "metadata": {},
          "execution_count": 32
        }
      ]
    },
    {
      "cell_type": "code",
      "source": [
        "TataMotors.shape"
      ],
      "metadata": {
        "colab": {
          "base_uri": "https://localhost:8080/"
        },
        "id": "QNCtni1d-ZGs",
        "outputId": "216e0a27-a3f8-49d0-ab19-d2bd410f51e7"
      },
      "execution_count": null,
      "outputs": [
        {
          "output_type": "execute_result",
          "data": {
            "text/plain": [
              "(5306, 15)"
            ]
          },
          "metadata": {},
          "execution_count": 33
        }
      ]
    },
    {
      "cell_type": "code",
      "source": [
        "Titan.shape"
      ],
      "metadata": {
        "colab": {
          "base_uri": "https://localhost:8080/"
        },
        "id": "kGjh29OU-fhe",
        "outputId": "596b8787-f9c7-4155-b223-7a082ba23ee9"
      },
      "execution_count": null,
      "outputs": [
        {
          "output_type": "execute_result",
          "data": {
            "text/plain": [
              "(5306, 15)"
            ]
          },
          "metadata": {},
          "execution_count": 34
        }
      ]
    },
    {
      "cell_type": "code",
      "source": [
        "TataSteel.shape"
      ],
      "metadata": {
        "colab": {
          "base_uri": "https://localhost:8080/"
        },
        "id": "ui504Nrg-iYk",
        "outputId": "e9da33da-8617-44be-ac84-70a44db89bd6"
      },
      "execution_count": null,
      "outputs": [
        {
          "output_type": "execute_result",
          "data": {
            "text/plain": [
              "(5306, 15)"
            ]
          },
          "metadata": {},
          "execution_count": 35
        }
      ]
    },
    {
      "cell_type": "code",
      "source": [
        "TataMotors.info()"
      ],
      "metadata": {
        "colab": {
          "base_uri": "https://localhost:8080/"
        },
        "id": "MzD0N3mU-2R2",
        "outputId": "3dbd5319-3696-4429-fd4a-1f3f2aa7c120"
      },
      "execution_count": null,
      "outputs": [
        {
          "output_type": "stream",
          "name": "stdout",
          "text": [
            "<class 'pandas.core.frame.DataFrame'>\n",
            "RangeIndex: 5306 entries, 0 to 5305\n",
            "Data columns (total 15 columns):\n",
            " #   Column              Non-Null Count  Dtype  \n",
            "---  ------              --------------  -----  \n",
            " 0   Date                5306 non-null   object \n",
            " 1   Symbol              5306 non-null   object \n",
            " 2   Series              5306 non-null   object \n",
            " 3   Prev Close          5306 non-null   float64\n",
            " 4   Open                5306 non-null   float64\n",
            " 5   High                5306 non-null   float64\n",
            " 6   Low                 5306 non-null   float64\n",
            " 7   Last                5306 non-null   float64\n",
            " 8   Close               5306 non-null   float64\n",
            " 9   VWAP                5306 non-null   float64\n",
            " 10  Volume              5306 non-null   int64  \n",
            " 11  Turnover            5306 non-null   float64\n",
            " 12  Trades              2456 non-null   float64\n",
            " 13  Deliverable Volume  4792 non-null   float64\n",
            " 14  %Deliverble         4792 non-null   float64\n",
            "dtypes: float64(11), int64(1), object(3)\n",
            "memory usage: 621.9+ KB\n"
          ]
        }
      ]
    },
    {
      "cell_type": "code",
      "source": [
        "Titan.info()"
      ],
      "metadata": {
        "colab": {
          "base_uri": "https://localhost:8080/"
        },
        "id": "HMJ36UdR_AAu",
        "outputId": "3fd63309-1dd8-49f0-c58e-4237c1c33a2c"
      },
      "execution_count": null,
      "outputs": [
        {
          "output_type": "stream",
          "name": "stdout",
          "text": [
            "<class 'pandas.core.frame.DataFrame'>\n",
            "RangeIndex: 5306 entries, 0 to 5305\n",
            "Data columns (total 15 columns):\n",
            " #   Column              Non-Null Count  Dtype  \n",
            "---  ------              --------------  -----  \n",
            " 0   Date                5306 non-null   object \n",
            " 1   Symbol              5306 non-null   object \n",
            " 2   Series              5306 non-null   object \n",
            " 3   Prev Close          5306 non-null   float64\n",
            " 4   Open                5306 non-null   float64\n",
            " 5   High                5306 non-null   float64\n",
            " 6   Low                 5306 non-null   float64\n",
            " 7   Last                5306 non-null   float64\n",
            " 8   Close               5306 non-null   float64\n",
            " 9   VWAP                5306 non-null   float64\n",
            " 10  Volume              5306 non-null   int64  \n",
            " 11  Turnover            5306 non-null   float64\n",
            " 12  Trades              2456 non-null   float64\n",
            " 13  Deliverable Volume  4792 non-null   float64\n",
            " 14  %Deliverble         4792 non-null   float64\n",
            "dtypes: float64(11), int64(1), object(3)\n",
            "memory usage: 621.9+ KB\n"
          ]
        }
      ]
    },
    {
      "cell_type": "code",
      "source": [
        "TataSteel.info()"
      ],
      "metadata": {
        "colab": {
          "base_uri": "https://localhost:8080/"
        },
        "id": "HbQkqNmN_CVq",
        "outputId": "6720450c-b302-4149-a43a-c5e6713da8dd"
      },
      "execution_count": null,
      "outputs": [
        {
          "output_type": "stream",
          "name": "stdout",
          "text": [
            "<class 'pandas.core.frame.DataFrame'>\n",
            "RangeIndex: 5306 entries, 0 to 5305\n",
            "Data columns (total 15 columns):\n",
            " #   Column              Non-Null Count  Dtype  \n",
            "---  ------              --------------  -----  \n",
            " 0   Date                5306 non-null   object \n",
            " 1   Symbol              5306 non-null   object \n",
            " 2   Series              5306 non-null   object \n",
            " 3   Prev Close          5306 non-null   float64\n",
            " 4   Open                5306 non-null   float64\n",
            " 5   High                5306 non-null   float64\n",
            " 6   Low                 5306 non-null   float64\n",
            " 7   Last                5306 non-null   float64\n",
            " 8   Close               5306 non-null   float64\n",
            " 9   VWAP                5306 non-null   float64\n",
            " 10  Volume              5306 non-null   int64  \n",
            " 11  Turnover            5306 non-null   float64\n",
            " 12  Trades              2456 non-null   float64\n",
            " 13  Deliverable Volume  4792 non-null   float64\n",
            " 14  %Deliverble         4792 non-null   float64\n",
            "dtypes: float64(11), int64(1), object(3)\n",
            "memory usage: 621.9+ KB\n"
          ]
        }
      ]
    },
    {
      "cell_type": "code",
      "source": [
        "TataMotors.isna().sum()"
      ],
      "metadata": {
        "colab": {
          "base_uri": "https://localhost:8080/"
        },
        "id": "nHkWem3Z_OmS",
        "outputId": "3b82a051-3035-4ca6-df82-5a2dfc5771d8"
      },
      "execution_count": null,
      "outputs": [
        {
          "output_type": "execute_result",
          "data": {
            "text/plain": [
              "Date                     0\n",
              "Symbol                   0\n",
              "Series                   0\n",
              "Prev Close               0\n",
              "Open                     0\n",
              "High                     0\n",
              "Low                      0\n",
              "Last                     0\n",
              "Close                    0\n",
              "VWAP                     0\n",
              "Volume                   0\n",
              "Turnover                 0\n",
              "Trades                2850\n",
              "Deliverable Volume     514\n",
              "%Deliverble            514\n",
              "dtype: int64"
            ]
          },
          "metadata": {},
          "execution_count": 39
        }
      ]
    },
    {
      "cell_type": "code",
      "source": [
        "Titan.isna().sum()"
      ],
      "metadata": {
        "colab": {
          "base_uri": "https://localhost:8080/"
        },
        "id": "CgDoUZCA_SzF",
        "outputId": "ce250c8c-533d-4d8c-8f59-37e5794025d0"
      },
      "execution_count": null,
      "outputs": [
        {
          "output_type": "execute_result",
          "data": {
            "text/plain": [
              "Date                     0\n",
              "Symbol                   0\n",
              "Series                   0\n",
              "Prev Close               0\n",
              "Open                     0\n",
              "High                     0\n",
              "Low                      0\n",
              "Last                     0\n",
              "Close                    0\n",
              "VWAP                     0\n",
              "Volume                   0\n",
              "Turnover                 0\n",
              "Trades                2850\n",
              "Deliverable Volume     514\n",
              "%Deliverble            514\n",
              "dtype: int64"
            ]
          },
          "metadata": {},
          "execution_count": 41
        }
      ]
    },
    {
      "cell_type": "code",
      "source": [
        "TataSteel.isna().sum()"
      ],
      "metadata": {
        "colab": {
          "base_uri": "https://localhost:8080/"
        },
        "id": "VNAhM05R_gep",
        "outputId": "20af3a76-1d1d-4275-b448-977be3ab88ab"
      },
      "execution_count": null,
      "outputs": [
        {
          "output_type": "execute_result",
          "data": {
            "text/plain": [
              "Date                     0\n",
              "Symbol                   0\n",
              "Series                   0\n",
              "Prev Close               0\n",
              "Open                     0\n",
              "High                     0\n",
              "Low                      0\n",
              "Last                     0\n",
              "Close                    0\n",
              "VWAP                     0\n",
              "Volume                   0\n",
              "Turnover                 0\n",
              "Trades                2850\n",
              "Deliverable Volume     514\n",
              "%Deliverble            514\n",
              "dtype: int64"
            ]
          },
          "metadata": {},
          "execution_count": 42
        }
      ]
    },
    {
      "cell_type": "code",
      "source": [
        "TataMotors.duplicated().sum()"
      ],
      "metadata": {
        "colab": {
          "base_uri": "https://localhost:8080/"
        },
        "id": "sVzTWL4r_jpW",
        "outputId": "e9b1ee03-e842-4c97-85f2-87ac889b3ab1"
      },
      "execution_count": null,
      "outputs": [
        {
          "output_type": "execute_result",
          "data": {
            "text/plain": [
              "0"
            ]
          },
          "metadata": {},
          "execution_count": 43
        }
      ]
    },
    {
      "cell_type": "code",
      "source": [
        "Titan.duplicated().sum()"
      ],
      "metadata": {
        "colab": {
          "base_uri": "https://localhost:8080/"
        },
        "id": "tyERgcXk_y0G",
        "outputId": "ee4e9100-c9a2-47ed-dc47-a0b67742651c"
      },
      "execution_count": null,
      "outputs": [
        {
          "output_type": "execute_result",
          "data": {
            "text/plain": [
              "0"
            ]
          },
          "metadata": {},
          "execution_count": 44
        }
      ]
    },
    {
      "cell_type": "code",
      "source": [
        "TataSteel.duplicated().sum()"
      ],
      "metadata": {
        "colab": {
          "base_uri": "https://localhost:8080/"
        },
        "id": "HRDbJ18H_328",
        "outputId": "9a9f7cfb-73f0-4ad9-b4e7-86b60824a469"
      },
      "execution_count": null,
      "outputs": [
        {
          "output_type": "execute_result",
          "data": {
            "text/plain": [
              "0"
            ]
          },
          "metadata": {},
          "execution_count": 45
        }
      ]
    },
    {
      "cell_type": "markdown",
      "source": [
        "# converting the “Date” column dtype from object to date"
      ],
      "metadata": {
        "id": "uERPKYFoCI1n"
      }
    },
    {
      "cell_type": "code",
      "source": [
        "TataMotors[\"Date\"]=pd.to_datetime(TataMotors[\"Date\"])\n",
        "TataSteel[\"Date\"]=pd.to_datetime(TataSteel[\"Date\"])\n",
        "Titan[\"Date\"]=pd.to_datetime(Titan[\"Date\"])\n"
      ],
      "metadata": {
        "id": "Iiaf3qbQ_6_5"
      },
      "execution_count": 12,
      "outputs": []
    },
    {
      "cell_type": "markdown",
      "source": [
        "# Dropping columns Trades, Deliverable Volume, and %Deliverable"
      ],
      "metadata": {
        "id": "xQtBDnGPDTvt"
      }
    },
    {
      "cell_type": "code",
      "source": [
        "TataMotors=TataMotors.drop(['Trades','Deliverable Volume','%Deliverble'], axis=1)\n",
        "Titan=Titan.drop(['Trades','Deliverable Volume','%Deliverble'], axis=1)\n",
        "TataSteel=TataSteel.drop(['Trades','Deliverable Volume','%Deliverble'], axis=1)"
      ],
      "metadata": {
        "id": "S1Ap6bOBAQ05"
      },
      "execution_count": 3,
      "outputs": []
    },
    {
      "cell_type": "markdown",
      "source": [
        "# Adding 3 more new columns to each of the Dataset"
      ],
      "metadata": {
        "id": "HPXd6mwJDeUO"
      }
    },
    {
      "cell_type": "code",
      "source": [
        "TataMotors['Month']=TataMotors[\"Date\"].dt.month\n",
        "\n",
        "TataMotors['Year']=TataMotors[\"Date\"].dt.year\n",
        "\n",
        "TataMotors['Day']=TataMotors[\"Date\"].dt.day\n",
        "\n",
        "\n",
        "Titan['Month']=Titan[\"Date\"].dt.month\n",
        "\n",
        "Titan['Year']=Titan[\"Date\"].dt.year\n",
        "\n",
        "Titan['Day']=Titan[\"Date\"].dt.day\n",
        "\n",
        "\n",
        "TataSteel['Day']=TataSteel['Date'].dt.day\n",
        "\n",
        "TataSteel['Year']=TataSteel['Date'].dt.year\n",
        "\n",
        "TataSteel['Month']=TataSteel['Date'].dt.month\n"
      ],
      "metadata": {
        "id": "pAy6FZnWDZeq"
      },
      "execution_count": 13,
      "outputs": []
    },
    {
      "cell_type": "code",
      "source": [
        "TataMotors.head()"
      ],
      "metadata": {
        "colab": {
          "base_uri": "https://localhost:8080/",
          "height": 206
        },
        "id": "myRQcsUeF2M0",
        "outputId": "4981a7a7-4b27-4980-eaf3-5bf2f6128254"
      },
      "execution_count": 5,
      "outputs": [
        {
          "output_type": "execute_result",
          "data": {
            "text/plain": [
              "         Date Symbol Series  Prev Close   Open    High    Low   Last   Close  \\\n",
              "0  2000-01-03  TELCO     EQ      201.60  207.4  217.25  207.4  217.0  216.75   \n",
              "1  2000-01-04  TELCO     EQ      216.75  217.0  219.00  206.0  211.9  208.20   \n",
              "2  2000-01-05  TELCO     EQ      208.20  194.0  217.80  194.0  213.1  213.25   \n",
              "3  2000-01-06  TELCO     EQ      213.25  215.0  229.90  215.0  222.0  222.10   \n",
              "4  2000-01-07  TELCO     EQ      222.10  224.0  239.90  223.1  239.9  239.90   \n",
              "\n",
              "     VWAP   Volume      Turnover  \n",
              "0  214.28   676126  1.448775e+13  \n",
              "1  209.50   679215  1.422962e+13  \n",
              "2  210.33  1120951  2.357684e+13  \n",
              "3  225.29  1968998  4.435932e+13  \n",
              "4  236.32  2199431  5.197636e+13  "
            ],
            "text/html": [
              "\n",
              "  <div id=\"df-e764d29e-b98b-4576-9bc1-fd238a584612\">\n",
              "    <div class=\"colab-df-container\">\n",
              "      <div>\n",
              "<style scoped>\n",
              "    .dataframe tbody tr th:only-of-type {\n",
              "        vertical-align: middle;\n",
              "    }\n",
              "\n",
              "    .dataframe tbody tr th {\n",
              "        vertical-align: top;\n",
              "    }\n",
              "\n",
              "    .dataframe thead th {\n",
              "        text-align: right;\n",
              "    }\n",
              "</style>\n",
              "<table border=\"1\" class=\"dataframe\">\n",
              "  <thead>\n",
              "    <tr style=\"text-align: right;\">\n",
              "      <th></th>\n",
              "      <th>Date</th>\n",
              "      <th>Symbol</th>\n",
              "      <th>Series</th>\n",
              "      <th>Prev Close</th>\n",
              "      <th>Open</th>\n",
              "      <th>High</th>\n",
              "      <th>Low</th>\n",
              "      <th>Last</th>\n",
              "      <th>Close</th>\n",
              "      <th>VWAP</th>\n",
              "      <th>Volume</th>\n",
              "      <th>Turnover</th>\n",
              "    </tr>\n",
              "  </thead>\n",
              "  <tbody>\n",
              "    <tr>\n",
              "      <th>0</th>\n",
              "      <td>2000-01-03</td>\n",
              "      <td>TELCO</td>\n",
              "      <td>EQ</td>\n",
              "      <td>201.60</td>\n",
              "      <td>207.4</td>\n",
              "      <td>217.25</td>\n",
              "      <td>207.4</td>\n",
              "      <td>217.0</td>\n",
              "      <td>216.75</td>\n",
              "      <td>214.28</td>\n",
              "      <td>676126</td>\n",
              "      <td>1.448775e+13</td>\n",
              "    </tr>\n",
              "    <tr>\n",
              "      <th>1</th>\n",
              "      <td>2000-01-04</td>\n",
              "      <td>TELCO</td>\n",
              "      <td>EQ</td>\n",
              "      <td>216.75</td>\n",
              "      <td>217.0</td>\n",
              "      <td>219.00</td>\n",
              "      <td>206.0</td>\n",
              "      <td>211.9</td>\n",
              "      <td>208.20</td>\n",
              "      <td>209.50</td>\n",
              "      <td>679215</td>\n",
              "      <td>1.422962e+13</td>\n",
              "    </tr>\n",
              "    <tr>\n",
              "      <th>2</th>\n",
              "      <td>2000-01-05</td>\n",
              "      <td>TELCO</td>\n",
              "      <td>EQ</td>\n",
              "      <td>208.20</td>\n",
              "      <td>194.0</td>\n",
              "      <td>217.80</td>\n",
              "      <td>194.0</td>\n",
              "      <td>213.1</td>\n",
              "      <td>213.25</td>\n",
              "      <td>210.33</td>\n",
              "      <td>1120951</td>\n",
              "      <td>2.357684e+13</td>\n",
              "    </tr>\n",
              "    <tr>\n",
              "      <th>3</th>\n",
              "      <td>2000-01-06</td>\n",
              "      <td>TELCO</td>\n",
              "      <td>EQ</td>\n",
              "      <td>213.25</td>\n",
              "      <td>215.0</td>\n",
              "      <td>229.90</td>\n",
              "      <td>215.0</td>\n",
              "      <td>222.0</td>\n",
              "      <td>222.10</td>\n",
              "      <td>225.29</td>\n",
              "      <td>1968998</td>\n",
              "      <td>4.435932e+13</td>\n",
              "    </tr>\n",
              "    <tr>\n",
              "      <th>4</th>\n",
              "      <td>2000-01-07</td>\n",
              "      <td>TELCO</td>\n",
              "      <td>EQ</td>\n",
              "      <td>222.10</td>\n",
              "      <td>224.0</td>\n",
              "      <td>239.90</td>\n",
              "      <td>223.1</td>\n",
              "      <td>239.9</td>\n",
              "      <td>239.90</td>\n",
              "      <td>236.32</td>\n",
              "      <td>2199431</td>\n",
              "      <td>5.197636e+13</td>\n",
              "    </tr>\n",
              "  </tbody>\n",
              "</table>\n",
              "</div>\n",
              "      <button class=\"colab-df-convert\" onclick=\"convertToInteractive('df-e764d29e-b98b-4576-9bc1-fd238a584612')\"\n",
              "              title=\"Convert this dataframe to an interactive table.\"\n",
              "              style=\"display:none;\">\n",
              "        \n",
              "  <svg xmlns=\"http://www.w3.org/2000/svg\" height=\"24px\"viewBox=\"0 0 24 24\"\n",
              "       width=\"24px\">\n",
              "    <path d=\"M0 0h24v24H0V0z\" fill=\"none\"/>\n",
              "    <path d=\"M18.56 5.44l.94 2.06.94-2.06 2.06-.94-2.06-.94-.94-2.06-.94 2.06-2.06.94zm-11 1L8.5 8.5l.94-2.06 2.06-.94-2.06-.94L8.5 2.5l-.94 2.06-2.06.94zm10 10l.94 2.06.94-2.06 2.06-.94-2.06-.94-.94-2.06-.94 2.06-2.06.94z\"/><path d=\"M17.41 7.96l-1.37-1.37c-.4-.4-.92-.59-1.43-.59-.52 0-1.04.2-1.43.59L10.3 9.45l-7.72 7.72c-.78.78-.78 2.05 0 2.83L4 21.41c.39.39.9.59 1.41.59.51 0 1.02-.2 1.41-.59l7.78-7.78 2.81-2.81c.8-.78.8-2.07 0-2.86zM5.41 20L4 18.59l7.72-7.72 1.47 1.35L5.41 20z\"/>\n",
              "  </svg>\n",
              "      </button>\n",
              "      \n",
              "  <style>\n",
              "    .colab-df-container {\n",
              "      display:flex;\n",
              "      flex-wrap:wrap;\n",
              "      gap: 12px;\n",
              "    }\n",
              "\n",
              "    .colab-df-convert {\n",
              "      background-color: #E8F0FE;\n",
              "      border: none;\n",
              "      border-radius: 50%;\n",
              "      cursor: pointer;\n",
              "      display: none;\n",
              "      fill: #1967D2;\n",
              "      height: 32px;\n",
              "      padding: 0 0 0 0;\n",
              "      width: 32px;\n",
              "    }\n",
              "\n",
              "    .colab-df-convert:hover {\n",
              "      background-color: #E2EBFA;\n",
              "      box-shadow: 0px 1px 2px rgba(60, 64, 67, 0.3), 0px 1px 3px 1px rgba(60, 64, 67, 0.15);\n",
              "      fill: #174EA6;\n",
              "    }\n",
              "\n",
              "    [theme=dark] .colab-df-convert {\n",
              "      background-color: #3B4455;\n",
              "      fill: #D2E3FC;\n",
              "    }\n",
              "\n",
              "    [theme=dark] .colab-df-convert:hover {\n",
              "      background-color: #434B5C;\n",
              "      box-shadow: 0px 1px 3px 1px rgba(0, 0, 0, 0.15);\n",
              "      filter: drop-shadow(0px 1px 2px rgba(0, 0, 0, 0.3));\n",
              "      fill: #FFFFFF;\n",
              "    }\n",
              "  </style>\n",
              "\n",
              "      <script>\n",
              "        const buttonEl =\n",
              "          document.querySelector('#df-e764d29e-b98b-4576-9bc1-fd238a584612 button.colab-df-convert');\n",
              "        buttonEl.style.display =\n",
              "          google.colab.kernel.accessAllowed ? 'block' : 'none';\n",
              "\n",
              "        async function convertToInteractive(key) {\n",
              "          const element = document.querySelector('#df-e764d29e-b98b-4576-9bc1-fd238a584612');\n",
              "          const dataTable =\n",
              "            await google.colab.kernel.invokeFunction('convertToInteractive',\n",
              "                                                     [key], {});\n",
              "          if (!dataTable) return;\n",
              "\n",
              "          const docLinkHtml = 'Like what you see? Visit the ' +\n",
              "            '<a target=\"_blank\" href=https://colab.research.google.com/notebooks/data_table.ipynb>data table notebook</a>'\n",
              "            + ' to learn more about interactive tables.';\n",
              "          element.innerHTML = '';\n",
              "          dataTable['output_type'] = 'display_data';\n",
              "          await google.colab.output.renderOutput(dataTable, element);\n",
              "          const docLink = document.createElement('div');\n",
              "          docLink.innerHTML = docLinkHtml;\n",
              "          element.appendChild(docLink);\n",
              "        }\n",
              "      </script>\n",
              "    </div>\n",
              "  </div>\n",
              "  "
            ]
          },
          "metadata": {},
          "execution_count": 5
        }
      ]
    },
    {
      "cell_type": "markdown",
      "source": [
        "# **Comparing the Data**"
      ],
      "metadata": {
        "id": "Hl_O4bGNGN3s"
      }
    },
    {
      "cell_type": "markdown",
      "source": [
        "## BY PRICE"
      ],
      "metadata": {
        "id": "KpK6XKkxGmbx"
      }
    },
    {
      "cell_type": "code",
      "source": [
        "plt.figure(figsize=(20,7))\n",
        "\n",
        "plt.plot(TataMotors['Date'],TataMotors['Open'],color='blue',label='Tatamotors')\n",
        "\n",
        "plt.plot(TataSteel['Date'],TataSteel['Open'],color='grey',label='Tatasteel')\n",
        "\n",
        "plt.plot(Titan['Date'],Titan['Open'],color='orange',label='Titan')\n",
        "plt.title(\"Relation between Tatamotors, Tatasteel and Titan Price\")\n",
        "\n",
        "plt.xlabel(\"Year\")\n",
        "\n",
        "plt.ylabel(\"Price\")\n",
        "\n",
        "plt.legend(title=\"\")"
      ],
      "metadata": {
        "colab": {
          "base_uri": "https://localhost:8080/",
          "height": 452
        },
        "id": "bVgdK34tGY-n",
        "outputId": "4082663d-fe38-431a-8cba-91390315a896"
      },
      "execution_count": 7,
      "outputs": [
        {
          "output_type": "execute_result",
          "data": {
            "text/plain": [
              "<matplotlib.legend.Legend at 0x7f5c8a4503d0>"
            ]
          },
          "metadata": {},
          "execution_count": 7
        },
        {
          "output_type": "display_data",
          "data": {
            "text/plain": [
              "<Figure size 1440x504 with 1 Axes>"
            ],
            "image/png": "[encoded data removed]"
          },
          "metadata": {
            "needs_background": "light"
          }
        }
      ]
    },
    {
      "cell_type": "markdown",
      "source": [
        "##  BY VOLUME"
      ],
      "metadata": {
        "id": "lAVpuQoGGQZ4"
      }
    },
    {
      "cell_type": "code",
      "source": [
        "plt.figure(figsize=(20,7))\n",
        "\n",
        "plt.plot(TataSteel['Date'],TataSteel['Volume'],color='blue',label='Tcs')\n",
        "\n",
        "plt.plot(TataMotors['Date'],TataMotors['Volume'],color='grey',label='infosys')\n",
        "\n",
        "plt.plot(Titan['Date'],Titan['Volume'],color='orange',label='wipro')\n",
        "plt.title(\"Relation between Tatamotors, tatasteel and titan volume\")\n",
        "\n",
        "plt.xlabel(\"Year\")\n",
        "\n",
        "plt.ylabel(\"Price\")\n",
        "\n",
        "plt.legend(title=\"\")"
      ],
      "metadata": {
        "colab": {
          "base_uri": "https://localhost:8080/",
          "height": 455
        },
        "id": "tBxowrk6GBUA",
        "outputId": "78c0230a-75c6-42ea-dd35-fc0db602798c"
      },
      "execution_count": 25,
      "outputs": [
        {
          "output_type": "execute_result",
          "data": {
            "text/plain": [
              "<matplotlib.legend.Legend at 0x7f5c7e6bbe50>"
            ]
          },
          "metadata": {},
          "execution_count": 25
        },
        {
          "output_type": "display_data",
          "data": {
            "text/plain": [
              "<Figure size 1440x504 with 1 Axes>"
            ],
            "image/png": "[encoded data removed]"
          },
          "metadata": {
            "needs_background": "light"
          }
        }
      ]
    },
    {
      "cell_type": "markdown",
      "source": [
        "#  we will analyze the ROI of tata-motors, tata-steel, and Titan if we buy one share of each stock on the 30th of each month beginning from January 2000 for Infosys and Wipro and November 2004 for TCS."
      ],
      "metadata": {
        "id": "95UlmnjURfSF"
      }
    },
    {
      "cell_type": "code",
      "source": [
        "TataMotors.tail()"
      ],
      "metadata": {
        "colab": {
          "base_uri": "https://localhost:8080/",
          "height": 206
        },
        "id": "030VruTwUALw",
        "outputId": "a9d4711c-745c-4f69-d73f-91150cde6dc3"
      },
      "execution_count": 9,
      "outputs": [
        {
          "output_type": "execute_result",
          "data": {
            "text/plain": [
              "            Date      Symbol Series  Prev Close   Open   High     Low    Last  \\\n",
              "5301  2021-04-26  TATAMOTORS     EQ       294.0  297.0  299.0  294.60  295.85   \n",
              "5302  2021-04-27  TATAMOTORS     EQ       295.4  295.7  302.5  295.10  302.10   \n",
              "5303  2021-04-28  TATAMOTORS     EQ       301.5  303.5  309.5  303.00  305.15   \n",
              "5304  2021-04-29  TATAMOTORS     EQ       305.9  308.9  310.0  301.25  302.20   \n",
              "5305  2021-04-30  TATAMOTORS     EQ       301.9  298.2  301.3  292.55  293.10   \n",
              "\n",
              "       Close    VWAP    Volume      Turnover  \n",
              "5301  295.40  296.48  30583139  9.067386e+14  \n",
              "5302  301.50  299.05  35040532  1.047879e+15  \n",
              "5303  305.90  307.22  44668126  1.372278e+15  \n",
              "5304  301.90  304.77  36647292  1.116900e+15  \n",
              "5305  293.85  297.01  36121668  1.072849e+15  "
            ],
            "text/html": [
              "\n",
              "  <div id=\"df-1c46ef9f-1440-42e8-8997-a1fe993bfbec\">\n",
              "    <div class=\"colab-df-container\">\n",
              "      <div>\n",
              "<style scoped>\n",
              "    .dataframe tbody tr th:only-of-type {\n",
              "        vertical-align: middle;\n",
              "    }\n",
              "\n",
              "    .dataframe tbody tr th {\n",
              "        vertical-align: top;\n",
              "    }\n",
              "\n",
              "    .dataframe thead th {\n",
              "        text-align: right;\n",
              "    }\n",
              "</style>\n",
              "<table border=\"1\" class=\"dataframe\">\n",
              "  <thead>\n",
              "    <tr style=\"text-align: right;\">\n",
              "      <th></th>\n",
              "      <th>Date</th>\n",
              "      <th>Symbol</th>\n",
              "      <th>Series</th>\n",
              "      <th>Prev Close</th>\n",
              "      <th>Open</th>\n",
              "      <th>High</th>\n",
              "      <th>Low</th>\n",
              "      <th>Last</th>\n",
              "      <th>Close</th>\n",
              "      <th>VWAP</th>\n",
              "      <th>Volume</th>\n",
              "      <th>Turnover</th>\n",
              "    </tr>\n",
              "  </thead>\n",
              "  <tbody>\n",
              "    <tr>\n",
              "      <th>5301</th>\n",
              "      <td>2021-04-26</td>\n",
              "      <td>TATAMOTORS</td>\n",
              "      <td>EQ</td>\n",
              "      <td>294.0</td>\n",
              "      <td>297.0</td>\n",
              "      <td>299.0</td>\n",
              "      <td>294.60</td>\n",
              "      <td>295.85</td>\n",
              "      <td>295.40</td>\n",
              "      <td>296.48</td>\n",
              "      <td>30583139</td>\n",
              "      <td>9.067386e+14</td>\n",
              "    </tr>\n",
              "    <tr>\n",
              "      <th>5302</th>\n",
              "      <td>2021-04-27</td>\n",
              "      <td>TATAMOTORS</td>\n",
              "      <td>EQ</td>\n",
              "      <td>295.4</td>\n",
              "      <td>295.7</td>\n",
              "      <td>302.5</td>\n",
              "      <td>295.10</td>\n",
              "      <td>302.10</td>\n",
              "      <td>301.50</td>\n",
              "      <td>299.05</td>\n",
              "      <td>35040532</td>\n",
              "      <td>1.047879e+15</td>\n",
              "    </tr>\n",
              "    <tr>\n",
              "      <th>5303</th>\n",
              "      <td>2021-04-28</td>\n",
              "      <td>TATAMOTORS</td>\n",
              "      <td>EQ</td>\n",
              "      <td>301.5</td>\n",
              "      <td>303.5</td>\n",
              "      <td>309.5</td>\n",
              "      <td>303.00</td>\n",
              "      <td>305.15</td>\n",
              "      <td>305.90</td>\n",
              "      <td>307.22</td>\n",
              "      <td>44668126</td>\n",
              "      <td>1.372278e+15</td>\n",
              "    </tr>\n",
              "    <tr>\n",
              "      <th>5304</th>\n",
              "      <td>2021-04-29</td>\n",
              "      <td>TATAMOTORS</td>\n",
              "      <td>EQ</td>\n",
              "      <td>305.9</td>\n",
              "      <td>308.9</td>\n",
              "      <td>310.0</td>\n",
              "      <td>301.25</td>\n",
              "      <td>302.20</td>\n",
              "      <td>301.90</td>\n",
              "      <td>304.77</td>\n",
              "      <td>36647292</td>\n",
              "      <td>1.116900e+15</td>\n",
              "    </tr>\n",
              "    <tr>\n",
              "      <th>5305</th>\n",
              "      <td>2021-04-30</td>\n",
              "      <td>TATAMOTORS</td>\n",
              "      <td>EQ</td>\n",
              "      <td>301.9</td>\n",
              "      <td>298.2</td>\n",
              "      <td>301.3</td>\n",
              "      <td>292.55</td>\n",
              "      <td>293.10</td>\n",
              "      <td>293.85</td>\n",
              "      <td>297.01</td>\n",
              "      <td>36121668</td>\n",
              "      <td>1.072849e+15</td>\n",
              "    </tr>\n",
              "  </tbody>\n",
              "</table>\n",
              "</div>\n",
              "      <button class=\"colab-df-convert\" onclick=\"convertToInteractive('df-1c46ef9f-1440-42e8-8997-a1fe993bfbec')\"\n",
              "              title=\"Convert this dataframe to an interactive table.\"\n",
              "              style=\"display:none;\">\n",
              "        \n",
              "  <svg xmlns=\"http://www.w3.org/2000/svg\" height=\"24px\"viewBox=\"0 0 24 24\"\n",
              "       width=\"24px\">\n",
              "    <path d=\"M0 0h24v24H0V0z\" fill=\"none\"/>\n",
              "    <path d=\"M18.56 5.44l.94 2.06.94-2.06 2.06-.94-2.06-.94-.94-2.06-.94 2.06-2.06.94zm-11 1L8.5 8.5l.94-2.06 2.06-.94-2.06-.94L8.5 2.5l-.94 2.06-2.06.94zm10 10l.94 2.06.94-2.06 2.06-.94-2.06-.94-.94-2.06-.94 2.06-2.06.94z\"/><path d=\"M17.41 7.96l-1.37-1.37c-.4-.4-.92-.59-1.43-.59-.52 0-1.04.2-1.43.59L10.3 9.45l-7.72 7.72c-.78.78-.78 2.05 0 2.83L4 21.41c.39.39.9.59 1.41.59.51 0 1.02-.2 1.41-.59l7.78-7.78 2.81-2.81c.8-.78.8-2.07 0-2.86zM5.41 20L4 18.59l7.72-7.72 1.47 1.35L5.41 20z\"/>\n",
              "  </svg>\n",
              "      </button>\n",
              "      \n",
              "  <style>\n",
              "    .colab-df-container {\n",
              "      display:flex;\n",
              "      flex-wrap:wrap;\n",
              "      gap: 12px;\n",
              "    }\n",
              "\n",
              "    .colab-df-convert {\n",
              "      background-color: #E8F0FE;\n",
              "      border: none;\n",
              "      border-radius: 50%;\n",
              "      cursor: pointer;\n",
              "      display: none;\n",
              "      fill: #1967D2;\n",
              "      height: 32px;\n",
              "      padding: 0 0 0 0;\n",
              "      width: 32px;\n",
              "    }\n",
              "\n",
              "    .colab-df-convert:hover {\n",
              "      background-color: #E2EBFA;\n",
              "      box-shadow: 0px 1px 2px rgba(60, 64, 67, 0.3), 0px 1px 3px 1px rgba(60, 64, 67, 0.15);\n",
              "      fill: #174EA6;\n",
              "    }\n",
              "\n",
              "    [theme=dark] .colab-df-convert {\n",
              "      background-color: #3B4455;\n",
              "      fill: #D2E3FC;\n",
              "    }\n",
              "\n",
              "    [theme=dark] .colab-df-convert:hover {\n",
              "      background-color: #434B5C;\n",
              "      box-shadow: 0px 1px 3px 1px rgba(0, 0, 0, 0.15);\n",
              "      filter: drop-shadow(0px 1px 2px rgba(0, 0, 0, 0.3));\n",
              "      fill: #FFFFFF;\n",
              "    }\n",
              "  </style>\n",
              "\n",
              "      <script>\n",
              "        const buttonEl =\n",
              "          document.querySelector('#df-1c46ef9f-1440-42e8-8997-a1fe993bfbec button.colab-df-convert');\n",
              "        buttonEl.style.display =\n",
              "          google.colab.kernel.accessAllowed ? 'block' : 'none';\n",
              "\n",
              "        async function convertToInteractive(key) {\n",
              "          const element = document.querySelector('#df-1c46ef9f-1440-42e8-8997-a1fe993bfbec');\n",
              "          const dataTable =\n",
              "            await google.colab.kernel.invokeFunction('convertToInteractive',\n",
              "                                                     [key], {});\n",
              "          if (!dataTable) return;\n",
              "\n",
              "          const docLinkHtml = 'Like what you see? Visit the ' +\n",
              "            '<a target=\"_blank\" href=https://colab.research.google.com/notebooks/data_table.ipynb>data table notebook</a>'\n",
              "            + ' to learn more about interactive tables.';\n",
              "          element.innerHTML = '';\n",
              "          dataTable['output_type'] = 'display_data';\n",
              "          await google.colab.output.renderOutput(dataTable, element);\n",
              "          const docLink = document.createElement('div');\n",
              "          docLink.innerHTML = docLinkHtml;\n",
              "          element.appendChild(docLink);\n",
              "        }\n",
              "      </script>\n",
              "    </div>\n",
              "  </div>\n",
              "  "
            ]
          },
          "metadata": {},
          "execution_count": 9
        }
      ]
    },
    {
      "cell_type": "markdown",
      "source": [
        "### TATAMOTORS ROI"
      ],
      "metadata": {
        "id": "LUd3QzILRwfU"
      }
    },
    {
      "cell_type": "code",
      "source": [
        "sumTataMotors=0 #total amount invested in INFY\n",
        "\n",
        "s1=0 #number of shares owned by INFY\n",
        "\n",
        "#calcuating total amount invested and number of shares owned in INFY\n",
        "\n",
        "for i in range(len(TataMotors)):\n",
        "\n",
        "    if TataMotors.loc[i,'Day']==30:\n",
        "\n",
        "        sumTataMotors+=TataMotors.loc[i,'Open']\n",
        "\n",
        "        s1+=1\n",
        "\n",
        "\n",
        "\n",
        "print(\"Total Invested in TataMotors = Rs\",round(sumTataMotors,2))\n",
        "\n",
        "print(\"Shares Owned of TataMotors =\",s1)\n",
        "\n",
        "print(\"Average Investmentment of 1 share = Rs\",round((sumTataMotors/s1),2))\n",
        "\n",
        "\n",
        "\n",
        "TataMotors_end=298.2 #last open price of Infosys on 2021-04-30\n",
        "\n",
        "#obtained by looking at the data or can be seen after executing Infosys.tail()\n",
        "\n",
        "#calculating investment results\n",
        "\n",
        "result1=round((TataMotors_end*s1)-sumTataMotors,2)\n",
        "\n",
        "roiTataMotors=round((result1/sumTataMotors)*100,2)\n",
        "\n",
        "if result1<0:\n",
        "\n",
        "    print(\"Net Unrealised Loss = Rs\",result1)\n",
        "\n",
        "else:\n",
        "\n",
        "    print(\"Net Unrealised Profit = Rs\",result1)\n",
        "\n",
        "\n",
        "\n",
        "print(\"TATAMOTORS ROI from 2000-1-3 to 2021-04-30 =\",roiTataMotors,\"%\")\n"
      ],
      "metadata": {
        "colab": {
          "base_uri": "https://localhost:8080/"
        },
        "id": "Ksk16_jqRtYy",
        "outputId": "87dcd7d8-a6d1-438e-f963-f1543c3e63ad"
      },
      "execution_count": 14,
      "outputs": [
        {
          "output_type": "stream",
          "name": "stdout",
          "text": [
            "Total Invested in TataMotors = Rs 65977.3\n",
            "Shares Owned of TataMotors = 162\n",
            "Average Investmentment of 1 share = Rs 407.27\n",
            "Net Unrealised Loss = Rs -17668.9\n",
            "INFOSYS ROI from 2000-1-3 to 2021-04-30 = -26.78 %\n"
          ]
        }
      ]
    },
    {
      "cell_type": "markdown",
      "source": [
        "### TITAN"
      ],
      "metadata": {
        "id": "_T5ro3T84uIz"
      }
    },
    {
      "cell_type": "code",
      "source": [
        "Titan.tail()"
      ],
      "metadata": {
        "colab": {
          "base_uri": "https://localhost:8080/",
          "height": 206
        },
        "id": "3DjL0dRrXZFh",
        "outputId": "35cc82fc-3a52-4ee8-b81b-c13f02e04a58"
      },
      "execution_count": 15,
      "outputs": [
        {
          "output_type": "execute_result",
          "data": {
            "text/plain": [
              "           Date Symbol Series  Prev Close    Open     High      Low     Last  \\\n",
              "5301 2021-04-26  TITAN     EQ     1461.45  1470.0  1489.75  1465.15  1478.95   \n",
              "5302 2021-04-27  TITAN     EQ     1479.85  1485.0  1503.55  1482.00  1498.00   \n",
              "5303 2021-04-28  TITAN     EQ     1495.10  1505.0  1514.90  1491.70  1509.00   \n",
              "5304 2021-04-29  TITAN     EQ     1508.85  1524.0  1527.50  1497.00  1504.35   \n",
              "5305 2021-04-30  TITAN     EQ     1506.80  1500.0  1516.55  1471.00  1489.85   \n",
              "\n",
              "        Close     VWAP   Volume      Turnover  Month  Year  Day  \n",
              "5301  1479.85  1479.58  1020499  1.509913e+14      4  2021   26  \n",
              "5302  1495.10  1494.21  1145908  1.712228e+14      4  2021   27  \n",
              "5303  1508.85  1504.73  1037771  1.561564e+14      4  2021   28  \n",
              "5304  1506.80  1510.30  1927546  2.911181e+14      4  2021   29  \n",
              "5305  1491.65  1493.26  3691399  5.512201e+14      4  2021   30  "
            ],
            "text/html": [
              "\n",
              "  <div id=\"df-03fcb0d5-9a86-4290-8c21-8863255ca481\">\n",
              "    <div class=\"colab-df-container\">\n",
              "      <div>\n",
              "<style scoped>\n",
              "    .dataframe tbody tr th:only-of-type {\n",
              "        vertical-align: middle;\n",
              "    }\n",
              "\n",
              "    .dataframe tbody tr th {\n",
              "        vertical-align: top;\n",
              "    }\n",
              "\n",
              "    .dataframe thead th {\n",
              "        text-align: right;\n",
              "    }\n",
              "</style>\n",
              "<table border=\"1\" class=\"dataframe\">\n",
              "  <thead>\n",
              "    <tr style=\"text-align: right;\">\n",
              "      <th></th>\n",
              "      <th>Date</th>\n",
              "      <th>Symbol</th>\n",
              "      <th>Series</th>\n",
              "      <th>Prev Close</th>\n",
              "      <th>Open</th>\n",
              "      <th>High</th>\n",
              "      <th>Low</th>\n",
              "      <th>Last</th>\n",
              "      <th>Close</th>\n",
              "      <th>VWAP</th>\n",
              "      <th>Volume</th>\n",
              "      <th>Turnover</th>\n",
              "      <th>Month</th>\n",
              "      <th>Year</th>\n",
              "      <th>Day</th>\n",
              "    </tr>\n",
              "  </thead>\n",
              "  <tbody>\n",
              "    <tr>\n",
              "      <th>5301</th>\n",
              "      <td>2021-04-26</td>\n",
              "      <td>TITAN</td>\n",
              "      <td>EQ</td>\n",
              "      <td>1461.45</td>\n",
              "      <td>1470.0</td>\n",
              "      <td>1489.75</td>\n",
              "      <td>1465.15</td>\n",
              "      <td>1478.95</td>\n",
              "      <td>1479.85</td>\n",
              "      <td>1479.58</td>\n",
              "      <td>1020499</td>\n",
              "      <td>1.509913e+14</td>\n",
              "      <td>4</td>\n",
              "      <td>2021</td>\n",
              "      <td>26</td>\n",
              "    </tr>\n",
              "    <tr>\n",
              "      <th>5302</th>\n",
              "      <td>2021-04-27</td>\n",
              "      <td>TITAN</td>\n",
              "      <td>EQ</td>\n",
              "      <td>1479.85</td>\n",
              "      <td>1485.0</td>\n",
              "      <td>1503.55</td>\n",
              "      <td>1482.00</td>\n",
              "      <td>1498.00</td>\n",
              "      <td>1495.10</td>\n",
              "      <td>1494.21</td>\n",
              "      <td>1145908</td>\n",
              "      <td>1.712228e+14</td>\n",
              "      <td>4</td>\n",
              "      <td>2021</td>\n",
              "      <td>27</td>\n",
              "    </tr>\n",
              "    <tr>\n",
              "      <th>5303</th>\n",
              "      <td>2021-04-28</td>\n",
              "      <td>TITAN</td>\n",
              "      <td>EQ</td>\n",
              "      <td>1495.10</td>\n",
              "      <td>1505.0</td>\n",
              "      <td>1514.90</td>\n",
              "      <td>1491.70</td>\n",
              "      <td>1509.00</td>\n",
              "      <td>1508.85</td>\n",
              "      <td>1504.73</td>\n",
              "      <td>1037771</td>\n",
              "      <td>1.561564e+14</td>\n",
              "      <td>4</td>\n",
              "      <td>2021</td>\n",
              "      <td>28</td>\n",
              "    </tr>\n",
              "    <tr>\n",
              "      <th>5304</th>\n",
              "      <td>2021-04-29</td>\n",
              "      <td>TITAN</td>\n",
              "      <td>EQ</td>\n",
              "      <td>1508.85</td>\n",
              "      <td>1524.0</td>\n",
              "      <td>1527.50</td>\n",
              "      <td>1497.00</td>\n",
              "      <td>1504.35</td>\n",
              "      <td>1506.80</td>\n",
              "      <td>1510.30</td>\n",
              "      <td>1927546</td>\n",
              "      <td>2.911181e+14</td>\n",
              "      <td>4</td>\n",
              "      <td>2021</td>\n",
              "      <td>29</td>\n",
              "    </tr>\n",
              "    <tr>\n",
              "      <th>5305</th>\n",
              "      <td>2021-04-30</td>\n",
              "      <td>TITAN</td>\n",
              "      <td>EQ</td>\n",
              "      <td>1506.80</td>\n",
              "      <td>1500.0</td>\n",
              "      <td>1516.55</td>\n",
              "      <td>1471.00</td>\n",
              "      <td>1489.85</td>\n",
              "      <td>1491.65</td>\n",
              "      <td>1493.26</td>\n",
              "      <td>3691399</td>\n",
              "      <td>5.512201e+14</td>\n",
              "      <td>4</td>\n",
              "      <td>2021</td>\n",
              "      <td>30</td>\n",
              "    </tr>\n",
              "  </tbody>\n",
              "</table>\n",
              "</div>\n",
              "      <button class=\"colab-df-convert\" onclick=\"convertToInteractive('df-03fcb0d5-9a86-4290-8c21-8863255ca481')\"\n",
              "              title=\"Convert this dataframe to an interactive table.\"\n",
              "              style=\"display:none;\">\n",
              "        \n",
              "  <svg xmlns=\"http://www.w3.org/2000/svg\" height=\"24px\"viewBox=\"0 0 24 24\"\n",
              "       width=\"24px\">\n",
              "    <path d=\"M0 0h24v24H0V0z\" fill=\"none\"/>\n",
              "    <path d=\"M18.56 5.44l.94 2.06.94-2.06 2.06-.94-2.06-.94-.94-2.06-.94 2.06-2.06.94zm-11 1L8.5 8.5l.94-2.06 2.06-.94-2.06-.94L8.5 2.5l-.94 2.06-2.06.94zm10 10l.94 2.06.94-2.06 2.06-.94-2.06-.94-.94-2.06-.94 2.06-2.06.94z\"/><path d=\"M17.41 7.96l-1.37-1.37c-.4-.4-.92-.59-1.43-.59-.52 0-1.04.2-1.43.59L10.3 9.45l-7.72 7.72c-.78.78-.78 2.05 0 2.83L4 21.41c.39.39.9.59 1.41.59.51 0 1.02-.2 1.41-.59l7.78-7.78 2.81-2.81c.8-.78.8-2.07 0-2.86zM5.41 20L4 18.59l7.72-7.72 1.47 1.35L5.41 20z\"/>\n",
              "  </svg>\n",
              "      </button>\n",
              "      \n",
              "  <style>\n",
              "    .colab-df-container {\n",
              "      display:flex;\n",
              "      flex-wrap:wrap;\n",
              "      gap: 12px;\n",
              "    }\n",
              "\n",
              "    .colab-df-convert {\n",
              "      background-color: #E8F0FE;\n",
              "      border: none;\n",
              "      border-radius: 50%;\n",
              "      cursor: pointer;\n",
              "      display: none;\n",
              "      fill: #1967D2;\n",
              "      height: 32px;\n",
              "      padding: 0 0 0 0;\n",
              "      width: 32px;\n",
              "    }\n",
              "\n",
              "    .colab-df-convert:hover {\n",
              "      background-color: #E2EBFA;\n",
              "      box-shadow: 0px 1px 2px rgba(60, 64, 67, 0.3), 0px 1px 3px 1px rgba(60, 64, 67, 0.15);\n",
              "      fill: #174EA6;\n",
              "    }\n",
              "\n",
              "    [theme=dark] .colab-df-convert {\n",
              "      background-color: #3B4455;\n",
              "      fill: #D2E3FC;\n",
              "    }\n",
              "\n",
              "    [theme=dark] .colab-df-convert:hover {\n",
              "      background-color: #434B5C;\n",
              "      box-shadow: 0px 1px 3px 1px rgba(0, 0, 0, 0.15);\n",
              "      filter: drop-shadow(0px 1px 2px rgba(0, 0, 0, 0.3));\n",
              "      fill: #FFFFFF;\n",
              "    }\n",
              "  </style>\n",
              "\n",
              "      <script>\n",
              "        const buttonEl =\n",
              "          document.querySelector('#df-03fcb0d5-9a86-4290-8c21-8863255ca481 button.colab-df-convert');\n",
              "        buttonEl.style.display =\n",
              "          google.colab.kernel.accessAllowed ? 'block' : 'none';\n",
              "\n",
              "        async function convertToInteractive(key) {\n",
              "          const element = document.querySelector('#df-03fcb0d5-9a86-4290-8c21-8863255ca481');\n",
              "          const dataTable =\n",
              "            await google.colab.kernel.invokeFunction('convertToInteractive',\n",
              "                                                     [key], {});\n",
              "          if (!dataTable) return;\n",
              "\n",
              "          const docLinkHtml = 'Like what you see? Visit the ' +\n",
              "            '<a target=\"_blank\" href=https://colab.research.google.com/notebooks/data_table.ipynb>data table notebook</a>'\n",
              "            + ' to learn more about interactive tables.';\n",
              "          element.innerHTML = '';\n",
              "          dataTable['output_type'] = 'display_data';\n",
              "          await google.colab.output.renderOutput(dataTable, element);\n",
              "          const docLink = document.createElement('div');\n",
              "          docLink.innerHTML = docLinkHtml;\n",
              "          element.appendChild(docLink);\n",
              "        }\n",
              "      </script>\n",
              "    </div>\n",
              "  </div>\n",
              "  "
            ]
          },
          "metadata": {},
          "execution_count": 15
        }
      ]
    },
    {
      "cell_type": "code",
      "source": [
        "sumTitan=0 #total amount invested in TCS\n",
        "\n",
        "s3=0 #number shares owned of TCS\n",
        "\n",
        "\n",
        "\n",
        "\n",
        "#calcuating total amount invested and number of shares owned in TCS\n",
        "\n",
        "for i in range(len(Titan)):\n",
        "\n",
        "    if Titan.loc[i,'Day']==30:\n",
        "\n",
        "        sumTitan+=Titan.loc[i,'Open']\n",
        "\n",
        "        s3+=1\n",
        "\n",
        "\n",
        "print(\"Total Invested in Titan = Rs\",round(sumTitan,2))\n",
        "\n",
        "print(\"Shares Owned of Titan =\",s3)\n",
        "\n",
        "print(\"Average Investmentment of 1 share = Rs\",round((sumTitan/s3),2))\n",
        "\n",
        "\n",
        "\n",
        "Titan_end=1500 #last open price of Infosys on 2021-04-30\n",
        "\n",
        "#obtained by looking at the data or can be seen after executing Infosys.tail()\n",
        "\n",
        "#calculating investment results\n",
        "\n",
        "result3=round((Titan_end*s1)-sumTitan,2)\n",
        "\n",
        "roiTitan=round((result3/sumTitan)*100,2)\n",
        "\n",
        "if result3<0:\n",
        "\n",
        "    print(\"Net Unrealised Loss = Rs\",result3)\n",
        "\n",
        "else:\n",
        "\n",
        "    print(\"Net Unrealised Profit = Rs\",result3)\n",
        "\n",
        "\n",
        "\n",
        "print(\"Titan ROI from 2000-1-3 to 2021-04-30 =\",roiTitan,\"%\")"
      ],
      "metadata": {
        "colab": {
          "base_uri": "https://localhost:8080/"
        },
        "id": "SuSyq9U0WnQ1",
        "outputId": "e79029d5-9f9c-4ad3-b07d-f0c10d11c179"
      },
      "execution_count": 18,
      "outputs": [
        {
          "output_type": "stream",
          "name": "stdout",
          "text": [
            "Total Invested in Titan = Rs 112904.9\n",
            "Shares Owned of Titan = 162\n",
            "Average Investmentment of 1 share = Rs 696.94\n",
            "Net Unrealised Profit = Rs 130095.1\n",
            "Titan ROI from 2000-1-3 to 2021-04-30 = 115.23 %\n"
          ]
        }
      ]
    },
    {
      "cell_type": "markdown",
      "source": [
        "### TATASTEEL ROI"
      ],
      "metadata": {
        "id": "R_6lq8pQ5czR"
      }
    },
    {
      "cell_type": "code",
      "source": [
        "TataSteel.tail()"
      ],
      "metadata": {
        "colab": {
          "base_uri": "https://localhost:8080/",
          "height": 206
        },
        "id": "9ndM7REdbGAc",
        "outputId": "145a6fd1-fb09-43be-b326-697bd484b14c"
      },
      "execution_count": 19,
      "outputs": [
        {
          "output_type": "execute_result",
          "data": {
            "text/plain": [
              "           Date     Symbol Series  Prev Close    Open     High      Low  \\\n",
              "5301 2021-04-26  TATASTEEL     EQ      925.60   935.0   956.00   930.05   \n",
              "5302 2021-04-27  TATASTEEL     EQ      940.75   948.3   983.00   944.30   \n",
              "5303 2021-04-28  TATASTEEL     EQ      977.75   985.0   986.00   962.00   \n",
              "5304 2021-04-29  TATASTEEL     EQ      971.40   983.0  1036.95   983.00   \n",
              "5305 2021-04-30  TATASTEEL     EQ     1031.35  1024.0  1052.60  1011.10   \n",
              "\n",
              "        Last    Close     VWAP    Volume      Turnover  Day  Year  Month  \n",
              "5301   942.5   940.75   942.98  21234858  2.002407e+15   26  2021      4  \n",
              "5302   982.0   977.75   965.43  24904515  2.404346e+15   27  2021      4  \n",
              "5303   971.0   971.40   972.08  20447968  1.987700e+15   28  2021      4  \n",
              "5304  1035.0  1031.35  1015.76  44718647  4.542359e+15   29  2021      4  \n",
              "5305  1025.6  1034.00  1031.95  28129738  2.902854e+15   30  2021      4  "
            ],
            "text/html": [
              "\n",
              "  <div id=\"df-1ad9f0cb-fb5c-4514-aef6-a2900aff58c8\">\n",
              "    <div class=\"colab-df-container\">\n",
              "      <div>\n",
              "<style scoped>\n",
              "    .dataframe tbody tr th:only-of-type {\n",
              "        vertical-align: middle;\n",
              "    }\n",
              "\n",
              "    .dataframe tbody tr th {\n",
              "        vertical-align: top;\n",
              "    }\n",
              "\n",
              "    .dataframe thead th {\n",
              "        text-align: right;\n",
              "    }\n",
              "</style>\n",
              "<table border=\"1\" class=\"dataframe\">\n",
              "  <thead>\n",
              "    <tr style=\"text-align: right;\">\n",
              "      <th></th>\n",
              "      <th>Date</th>\n",
              "      <th>Symbol</th>\n",
              "      <th>Series</th>\n",
              "      <th>Prev Close</th>\n",
              "      <th>Open</th>\n",
              "      <th>High</th>\n",
              "      <th>Low</th>\n",
              "      <th>Last</th>\n",
              "      <th>Close</th>\n",
              "      <th>VWAP</th>\n",
              "      <th>Volume</th>\n",
              "      <th>Turnover</th>\n",
              "      <th>Day</th>\n",
              "      <th>Year</th>\n",
              "      <th>Month</th>\n",
              "    </tr>\n",
              "  </thead>\n",
              "  <tbody>\n",
              "    <tr>\n",
              "      <th>5301</th>\n",
              "      <td>2021-04-26</td>\n",
              "      <td>TATASTEEL</td>\n",
              "      <td>EQ</td>\n",
              "      <td>925.60</td>\n",
              "      <td>935.0</td>\n",
              "      <td>956.00</td>\n",
              "      <td>930.05</td>\n",
              "      <td>942.5</td>\n",
              "      <td>940.75</td>\n",
              "      <td>942.98</td>\n",
              "      <td>21234858</td>\n",
              "      <td>2.002407e+15</td>\n",
              "      <td>26</td>\n",
              "      <td>2021</td>\n",
              "      <td>4</td>\n",
              "    </tr>\n",
              "    <tr>\n",
              "      <th>5302</th>\n",
              "      <td>2021-04-27</td>\n",
              "      <td>TATASTEEL</td>\n",
              "      <td>EQ</td>\n",
              "      <td>940.75</td>\n",
              "      <td>948.3</td>\n",
              "      <td>983.00</td>\n",
              "      <td>944.30</td>\n",
              "      <td>982.0</td>\n",
              "      <td>977.75</td>\n",
              "      <td>965.43</td>\n",
              "      <td>24904515</td>\n",
              "      <td>2.404346e+15</td>\n",
              "      <td>27</td>\n",
              "      <td>2021</td>\n",
              "      <td>4</td>\n",
              "    </tr>\n",
              "    <tr>\n",
              "      <th>5303</th>\n",
              "      <td>2021-04-28</td>\n",
              "      <td>TATASTEEL</td>\n",
              "      <td>EQ</td>\n",
              "      <td>977.75</td>\n",
              "      <td>985.0</td>\n",
              "      <td>986.00</td>\n",
              "      <td>962.00</td>\n",
              "      <td>971.0</td>\n",
              "      <td>971.40</td>\n",
              "      <td>972.08</td>\n",
              "      <td>20447968</td>\n",
              "      <td>1.987700e+15</td>\n",
              "      <td>28</td>\n",
              "      <td>2021</td>\n",
              "      <td>4</td>\n",
              "    </tr>\n",
              "    <tr>\n",
              "      <th>5304</th>\n",
              "      <td>2021-04-29</td>\n",
              "      <td>TATASTEEL</td>\n",
              "      <td>EQ</td>\n",
              "      <td>971.40</td>\n",
              "      <td>983.0</td>\n",
              "      <td>1036.95</td>\n",
              "      <td>983.00</td>\n",
              "      <td>1035.0</td>\n",
              "      <td>1031.35</td>\n",
              "      <td>1015.76</td>\n",
              "      <td>44718647</td>\n",
              "      <td>4.542359e+15</td>\n",
              "      <td>29</td>\n",
              "      <td>2021</td>\n",
              "      <td>4</td>\n",
              "    </tr>\n",
              "    <tr>\n",
              "      <th>5305</th>\n",
              "      <td>2021-04-30</td>\n",
              "      <td>TATASTEEL</td>\n",
              "      <td>EQ</td>\n",
              "      <td>1031.35</td>\n",
              "      <td>1024.0</td>\n",
              "      <td>1052.60</td>\n",
              "      <td>1011.10</td>\n",
              "      <td>1025.6</td>\n",
              "      <td>1034.00</td>\n",
              "      <td>1031.95</td>\n",
              "      <td>28129738</td>\n",
              "      <td>2.902854e+15</td>\n",
              "      <td>30</td>\n",
              "      <td>2021</td>\n",
              "      <td>4</td>\n",
              "    </tr>\n",
              "  </tbody>\n",
              "</table>\n",
              "</div>\n",
              "      <button class=\"colab-df-convert\" onclick=\"convertToInteractive('df-1ad9f0cb-fb5c-4514-aef6-a2900aff58c8')\"\n",
              "              title=\"Convert this dataframe to an interactive table.\"\n",
              "              style=\"display:none;\">\n",
              "        \n",
              "  <svg xmlns=\"http://www.w3.org/2000/svg\" height=\"24px\"viewBox=\"0 0 24 24\"\n",
              "       width=\"24px\">\n",
              "    <path d=\"M0 0h24v24H0V0z\" fill=\"none\"/>\n",
              "    <path d=\"M18.56 5.44l.94 2.06.94-2.06 2.06-.94-2.06-.94-.94-2.06-.94 2.06-2.06.94zm-11 1L8.5 8.5l.94-2.06 2.06-.94-2.06-.94L8.5 2.5l-.94 2.06-2.06.94zm10 10l.94 2.06.94-2.06 2.06-.94-2.06-.94-.94-2.06-.94 2.06-2.06.94z\"/><path d=\"M17.41 7.96l-1.37-1.37c-.4-.4-.92-.59-1.43-.59-.52 0-1.04.2-1.43.59L10.3 9.45l-7.72 7.72c-.78.78-.78 2.05 0 2.83L4 21.41c.39.39.9.59 1.41.59.51 0 1.02-.2 1.41-.59l7.78-7.78 2.81-2.81c.8-.78.8-2.07 0-2.86zM5.41 20L4 18.59l7.72-7.72 1.47 1.35L5.41 20z\"/>\n",
              "  </svg>\n",
              "      </button>\n",
              "      \n",
              "  <style>\n",
              "    .colab-df-container {\n",
              "      display:flex;\n",
              "      flex-wrap:wrap;\n",
              "      gap: 12px;\n",
              "    }\n",
              "\n",
              "    .colab-df-convert {\n",
              "      background-color: #E8F0FE;\n",
              "      border: none;\n",
              "      border-radius: 50%;\n",
              "      cursor: pointer;\n",
              "      display: none;\n",
              "      fill: #1967D2;\n",
              "      height: 32px;\n",
              "      padding: 0 0 0 0;\n",
              "      width: 32px;\n",
              "    }\n",
              "\n",
              "    .colab-df-convert:hover {\n",
              "      background-color: #E2EBFA;\n",
              "      box-shadow: 0px 1px 2px rgba(60, 64, 67, 0.3), 0px 1px 3px 1px rgba(60, 64, 67, 0.15);\n",
              "      fill: #174EA6;\n",
              "    }\n",
              "\n",
              "    [theme=dark] .colab-df-convert {\n",
              "      background-color: #3B4455;\n",
              "      fill: #D2E3FC;\n",
              "    }\n",
              "\n",
              "    [theme=dark] .colab-df-convert:hover {\n",
              "      background-color: #434B5C;\n",
              "      box-shadow: 0px 1px 3px 1px rgba(0, 0, 0, 0.15);\n",
              "      filter: drop-shadow(0px 1px 2px rgba(0, 0, 0, 0.3));\n",
              "      fill: #FFFFFF;\n",
              "    }\n",
              "  </style>\n",
              "\n",
              "      <script>\n",
              "        const buttonEl =\n",
              "          document.querySelector('#df-1ad9f0cb-fb5c-4514-aef6-a2900aff58c8 button.colab-df-convert');\n",
              "        buttonEl.style.display =\n",
              "          google.colab.kernel.accessAllowed ? 'block' : 'none';\n",
              "\n",
              "        async function convertToInteractive(key) {\n",
              "          const element = document.querySelector('#df-1ad9f0cb-fb5c-4514-aef6-a2900aff58c8');\n",
              "          const dataTable =\n",
              "            await google.colab.kernel.invokeFunction('convertToInteractive',\n",
              "                                                     [key], {});\n",
              "          if (!dataTable) return;\n",
              "\n",
              "          const docLinkHtml = 'Like what you see? Visit the ' +\n",
              "            '<a target=\"_blank\" href=https://colab.research.google.com/notebooks/data_table.ipynb>data table notebook</a>'\n",
              "            + ' to learn more about interactive tables.';\n",
              "          element.innerHTML = '';\n",
              "          dataTable['output_type'] = 'display_data';\n",
              "          await google.colab.output.renderOutput(dataTable, element);\n",
              "          const docLink = document.createElement('div');\n",
              "          docLink.innerHTML = docLinkHtml;\n",
              "          element.appendChild(docLink);\n",
              "        }\n",
              "      </script>\n",
              "    </div>\n",
              "  </div>\n",
              "  "
            ]
          },
          "metadata": {},
          "execution_count": 19
        }
      ]
    },
    {
      "cell_type": "code",
      "source": [
        "sumTataSteel=0 #total amount invested in TCS\n",
        "\n",
        "s2=0 #number shares owned of TCS\n",
        "\n",
        "\n",
        "\n",
        "\n",
        "#calcuating total amount invested and number of shares owned in TCS\n",
        "\n",
        "for i in range(len(TataSteel)):\n",
        "\n",
        "    if TataSteel.loc[i,'Day']==30:\n",
        "\n",
        "        sumTataSteel+=TataSteel.loc[i,'Open']\n",
        "\n",
        "        s2+=1\n",
        "\n",
        "\n",
        "print(\"Total Invested in TataSteel = Rs\",round(sumTataSteel,2))\n",
        "\n",
        "print(\"Shares Owned of TataSteel =\",s2)\n",
        "\n",
        "print(\"Average Investmentment of 1 share = Rs\",round((sumTataSteel/s2),2))\n",
        "\n",
        "\n",
        "\n",
        "TataSteel_end=1024 #last open price of Infosys on 2021-04-30\n",
        "\n",
        "#obtained by looking at the data or can be seen after executing Infosys.tail()\n",
        "\n",
        "#calculating investment results\n",
        "\n",
        "result2=round((TataSteel_end*s2)-sumTataSteel,2)\n",
        "\n",
        "roiTataSteel=round((result2/sumTataSteel)*100,2)\n",
        "\n",
        "if result2<0:\n",
        "\n",
        "    print(\"Net Unrealised Loss = Rs\",result2)\n",
        "\n",
        "else:\n",
        "\n",
        "    print(\"Net Unrealised Profit = Rs\",result2)\n",
        "\n",
        "\n",
        "\n",
        "print(\"TataSteel ROI from 2000-1-3 to 2021-04-30 =\",roiTataSteel,\"%\")"
      ],
      "metadata": {
        "colab": {
          "base_uri": "https://localhost:8080/"
        },
        "id": "jYBgnzm45nVa",
        "outputId": "de8fb5cd-218b-4c13-f697-2250c4850813"
      },
      "execution_count": 20,
      "outputs": [
        {
          "output_type": "stream",
          "name": "stdout",
          "text": [
            "Total Invested in TataSteel = Rs 65825.9\n",
            "Shares Owned of TataSteel = 162\n",
            "Average Investmentment of 1 share = Rs 406.33\n",
            "Net Unrealised Profit = Rs 100062.1\n",
            "Titan ROI from 2000-1-3 to 2021-04-30 = 152.01 %\n"
          ]
        }
      ]
    },
    {
      "cell_type": "markdown",
      "source": [
        "# PLOTTING ROI IN BARS"
      ],
      "metadata": {
        "id": "HGfabA1g6lFz"
      }
    },
    {
      "cell_type": "code",
      "source": [
        "plt.figure(figsize=(5,7))\n",
        "\n",
        "stock=['Tata Motors','Tata Steel','Titan']\n",
        "\n",
        "ROI=[roiTataMotors,roiTataSteel,roiTitan]\n",
        "\n",
        "col=['Blue','Grey','Orange']\n",
        "\n",
        "\n",
        "\n",
        "\n",
        "plt.bar(stock,ROI,color=col)\n",
        "\n",
        "\n",
        "\n",
        "\n",
        "plt.title(\"ROI\")\n",
        "\n",
        "plt.xlabel(\"Stocks\")\n",
        "plt.ylabel(\"Amount\")\n"
      ],
      "metadata": {
        "colab": {
          "base_uri": "https://localhost:8080/",
          "height": 475
        },
        "id": "mKQSBODH6ptS",
        "outputId": "5162be10-4b62-4854-bd34-5fd6fbc274e4"
      },
      "execution_count": 21,
      "outputs": [
        {
          "output_type": "execute_result",
          "data": {
            "text/plain": [
              "Text(0, 0.5, 'Amount')"
            ]
          },
          "metadata": {},
          "execution_count": 21
        },
        {
          "output_type": "display_data",
          "data": {
            "text/plain": [
              "<Figure size 360x504 with 1 Axes>"
            ],
            "image/png": "[encoded data removed]"
          },
          "metadata": {
            "needs_background": "light"
          }
        }
      ]
    },
    {
      "cell_type": "markdown",
      "source": [
        "# Plotting Profit/Loss Amount on Bar Graph"
      ],
      "metadata": {
        "id": "c4sBFfLS71a6"
      }
    },
    {
      "cell_type": "code",
      "source": [
        "plt.figure(figsize=(5,7))\n",
        "\n",
        "stock=['Tata Motors','Titan','Tata steel']\n",
        "\n",
        "amt=[result1,result3,result2]\n",
        "\n",
        "col=['Blue','Grey','Orange']\n",
        "\n",
        "\n",
        "\n",
        "\n",
        "plt.bar(stock,amt,color=col)\n",
        "plt.title(\"Profit/Loss\")\n",
        "\n",
        "plt.xlabel(\"Stocks\")\n",
        "\n",
        "plt.ylabel(\"Amount\")"
      ],
      "metadata": {
        "colab": {
          "base_uri": "https://localhost:8080/",
          "height": 475
        },
        "id": "yWnXHTp87K51",
        "outputId": "d82c2c2a-e3cf-49b0-fcf3-93fb1f9dd4a8"
      },
      "execution_count": 23,
      "outputs": [
        {
          "output_type": "execute_result",
          "data": {
            "text/plain": [
              "Text(0, 0.5, 'Amount')"
            ]
          },
          "metadata": {},
          "execution_count": 23
        },
        {
          "output_type": "display_data",
          "data": {
            "text/plain": [
              "<Figure size 360x504 with 1 Axes>"
            ],
            "image/png": "[encoded data removed]"
          },
          "metadata": {
            "needs_background": "light"
          }
        }
      ]
    },
    {
      "cell_type": "markdown",
      "source": [
        "# Displaying Number of shares owned."
      ],
      "metadata": {
        "id": "iWAvaL5W77Yd"
      }
    },
    {
      "cell_type": "code",
      "source": [
        "plt.figure(figsize=(5,7))\n",
        "\n",
        "stock=['Tata Motors','Tata Steel','TCS']\n",
        "\n",
        "shares=[s1,s3,s2]\n",
        "\n",
        "col=['Blue','Grey','Orange']\n",
        "\n",
        "\n",
        "\n",
        "plt.pie(shares,labels=stock,autopct=\"%1.2f%%\",colors=col)\n",
        "\n",
        "plt.legend(title=\"\",loc=\"upper left\")\n",
        "\n",
        "plt.title(\"Portfolio Allocation\")"
      ],
      "metadata": {
        "colab": {
          "base_uri": "https://localhost:8080/",
          "height": 343
        },
        "id": "Q49NbJhR7hy-",
        "outputId": "4bebde11-d404-4954-9fa3-de23b155b227"
      },
      "execution_count": 24,
      "outputs": [
        {
          "output_type": "execute_result",
          "data": {
            "text/plain": [
              "Text(0.5, 1.0, 'Portfolio Allocation')"
            ]
          },
          "metadata": {},
          "execution_count": 24
        },
        {
          "output_type": "display_data",
          "data": {
            "text/plain": [
              "<Figure size 360x504 with 1 Axes>"
            ],
            "image/png": "[encoded data removed]"
          },
          "metadata": {}
        }
      ]
    },
    {
      "cell_type": "markdown",
      "source": [
        "# CONCLUSIONS\n",
        "## 1) YES MOST OF THE LARGE CAP STOCKS FOR THE LONG RUN ARE PROFITABLE\n",
        "###      HERE TATA STEEL AND TITAN GAVE A RETURN OF 152% & 113% of your investment respectively.\n",
        "###      And here we followed the method of SIP as we invested at the last date of every month by buying a single stock.\n",
        "\n",
        "## 2) No we should not buy any companys stock even if they are trending or they are famous before checking their fundamentals.\n",
        "### as tata motors whose parent is tata gave a ROI of -26%\n",
        "\n",
        "## 3) Yes diversification does help to keep your portfolio stable\n",
        "### here we invested in three different domains and one of them gave a negative ROI while 2 different domains were profitable\n",
        "\n"
      ],
      "metadata": {
        "id": "Hw0MuIo7-ncI"
      }
    },
    {
      "cell_type": "code",
      "source": [],
      "metadata": {
        "id": "ThcxWkPh_Ant"
      },
      "execution_count": null,
      "outputs": []
    }
  ]
}